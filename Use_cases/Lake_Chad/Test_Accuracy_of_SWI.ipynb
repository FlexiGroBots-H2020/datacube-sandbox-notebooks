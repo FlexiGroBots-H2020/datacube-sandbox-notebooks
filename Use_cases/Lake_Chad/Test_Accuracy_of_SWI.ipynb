{
 "cells": [
  {
   "cell_type": "markdown",
   "metadata": {},
   "source": [
    "# Testing Sentinel 1-A Water Index for Water Detection and Mapping\n",
    "\n",
    "* **Products used:** \n",
    "[s1_rtc](https://explorer.digitalearth.africa/products/s1_rtc), "
   ]
  },
  {
   "cell_type": "raw",
   "metadata": {
    "raw_mimetype": "text/restructuredtext"
   },
   "source": [
    "**Keywords**: :index:`data used; sentinel 1`,:index:`SAR`, :index:`water; extent`, :index:`analysis; time series`, :index:`band index; SWI`"
   ]
  },
  {
   "cell_type": "markdown",
   "metadata": {},
   "source": [
    "## Background\n",
    "The United Nations have prescribed 17 \"Sustainable Development Goals\" (SDGs). This notebook attempts to monitor SDG Indicator 6.6.1 - change in the extent of water-related ecosystems. Indicator 6.6.1 has 4 sub-indicators:\n",
    ">    i. The spatial extent of water-related ecosystems <br>\n",
    ">    ii. The quantity of water contained within these ecosystems <br>\n",
    ">    iii. The quality of water within these ecosystems <br>\n",
    ">    iv. The health or state of these ecosystems <br>\n",
    "\n",
    "This notebook primarily focuses on the first sub-indicator - spatial extents.\n"
   ]
  },
  {
   "cell_type": "markdown",
   "metadata": {},
   "source": [
    "A couple of very instructive papers on Lake Chad\n",
    "\n",
    "- [The Lake Chad hydrology under current climate change](https://www.nature.com/articles/s41598-020-62417-w)\n",
    "- [Recent Surface Water Extent of Lake Chad from Multispectral Sensors and GRACE](https://www.mdpi.com/1424-8220/18/7/2082)"
   ]
  },
  {
   "cell_type": "markdown",
   "metadata": {},
   "source": [
    "## Description\n",
    "\n",
    "The notebook demonstrates how to:\n",
    "\n",
    "1. Load satellite data over the water body of interest.\n",
    "2. Calculate the water index SWI.\n",
    "3. Generate a median composite of the SWI water index.\n",
    "4. Threshold the median composite of the SWI water index.\n",
    "5. Compare the results to different datasets.\n",
    "\n",
    "***"
   ]
  },
  {
   "cell_type": "markdown",
   "metadata": {},
   "source": [
    "## Getting started\n",
    "To run this analysis, run all the cells in the notebook, starting with the \"Load packages\" cell. "
   ]
  },
  {
   "cell_type": "code",
   "execution_count": 1,
   "metadata": {},
   "outputs": [],
   "source": [
    "# Uncomment the line below to install the tabulate module.\n",
    "# !pip install tabulate"
   ]
  },
  {
   "cell_type": "markdown",
   "metadata": {},
   "source": [
    "### Load packages\n",
    "Import Python packages that are used for the analysis."
   ]
  },
  {
   "cell_type": "code",
   "execution_count": 2,
   "metadata": {},
   "outputs": [],
   "source": [
    "%matplotlib inline\n",
    "\n",
    "import datacube\n",
    "import numpy as np\n",
    "import xarray as xr\n",
    "import geopandas as gpd\n",
    "from IPython.display import Image\n",
    "import seaborn as sns\n",
    "import matplotlib.pyplot as plt\n",
    "from matplotlib.colors import ListedColormap\n",
    "from matplotlib.patches import Patch\n",
    "import matplotlib.colors as mcolours\n",
    "from tabulate import tabulate\n",
    "from odc.algo import geomedian_with_mads\n",
    "\n",
    "from sklearn.metrics import (\n",
    "    accuracy_score,\n",
    "    f1_score,\n",
    "    precision_score,\n",
    "    recall_score,\n",
    "    cohen_kappa_score,\n",
    ")\n",
    "\n",
    "from deafrica_tools.bandindices import calculate_indices\n",
    "from deafrica_tools.dask import create_local_dask_cluster\n",
    "from deafrica_tools.datahandling import load_ard\n",
    "from deafrica_tools.plotting import display_map, xr_animation, plot_lulc"
   ]
  },
  {
   "cell_type": "markdown",
   "metadata": {},
   "source": [
    "## Set up a Dask cluster\n",
    "\n",
    "Dask can be used to better manage memory use and conduct the analysis in parallel. \n",
    "For an introduction to using Dask with Digital Earth Africa, see the [Dask notebook](../Beginners_guide/06_Parallel_processing_with_dask.ipynb).\n",
    "\n",
    ">**Note**: We recommend opening the Dask processing window to view the different computations that are being executed; to do this, see the *Dask dashboard in DE Africa* section of the [Dask notebook](../Beginners_guide/06_Parallel_processing_with_dask.ipynb).\n",
    "\n",
    "To activate Dask, set up the local computing cluster using the cell below."
   ]
  },
  {
   "cell_type": "code",
   "execution_count": 3,
   "metadata": {},
   "outputs": [
    {
     "name": "stderr",
     "output_type": "stream",
     "text": [
      "/env/lib/python3.8/site-packages/distributed/node.py:151: UserWarning: Port 8787 is already in use.\n",
      "Perhaps you already have a cluster running?\n",
      "Hosting the HTTP server on port 36133 instead\n",
      "  warnings.warn(\n"
     ]
    },
    {
     "data": {
      "text/html": [
       "<table style=\"border: 2px solid white;\">\n",
       "<tr>\n",
       "<td style=\"vertical-align: top; border: 0px solid white\">\n",
       "<h3 style=\"text-align: left;\">Client</h3>\n",
       "<ul style=\"text-align: left; list-style: none; margin: 0; padding: 0;\">\n",
       "  <li><b>Scheduler: </b>tcp://127.0.0.1:38705</li>\n",
       "  <li><b>Dashboard: </b><a href='/user/victoria/proxy/36133/status' target='_blank'>/user/victoria/proxy/36133/status</a></li>\n",
       "</ul>\n",
       "</td>\n",
       "<td style=\"vertical-align: top; border: 0px solid white\">\n",
       "<h3 style=\"text-align: left;\">Cluster</h3>\n",
       "<ul style=\"text-align: left; list-style:none; margin: 0; padding: 0;\">\n",
       "  <li><b>Workers: </b>1</li>\n",
       "  <li><b>Cores: </b>4</li>\n",
       "  <li><b>Memory: </b>28.14 GB</li>\n",
       "</ul>\n",
       "</td>\n",
       "</tr>\n",
       "</table>"
      ],
      "text/plain": [
       "<Client: 'tcp://127.0.0.1:38705' processes=1 threads=4, memory=28.14 GB>"
      ]
     },
     "metadata": {},
     "output_type": "display_data"
    }
   ],
   "source": [
    "create_local_dask_cluster()"
   ]
  },
  {
   "cell_type": "markdown",
   "metadata": {},
   "source": [
    "### Connect to the datacube\n",
    "\n",
    "Activate the datacube database, which provides functionality for loading and displaying stored Earth observation data."
   ]
  },
  {
   "cell_type": "code",
   "execution_count": 4,
   "metadata": {},
   "outputs": [],
   "source": [
    "dc = datacube.Datacube(app='water_extent')"
   ]
  },
  {
   "cell_type": "markdown",
   "metadata": {},
   "source": [
    "### Analysis parameters\n",
    "\n",
    "The following cell sets the parameters, which define the area of interest and the length of time to conduct the analysis over.\n",
    "\n",
    "The parameters are:\n",
    "\n",
    "* `vector_file`: The path to the shapefile or geojson that will define the analysis area of the study.\n",
    "* `time_range` : The date range to analyse (e.g. `('2017', '2019')`.\n",
    "* `resolution` : The pixel resolution of the satellite data. `(-30,30)` for Landsat or `(-10,10)` for Sentinel-2.\n",
    "* `dask_chunks`: Chunk sizes to use for dask.\n",
    "\n",
    "**If running the notebook for the first time**, keep the default settings below.\n",
    "This will demonstrate how the analysis works and provide meaningful results.\n",
    "The example covers Lake Chad. \n",
    "\n",
    "**Current default is Lake Sulunga. Tanzania.**"
   ]
  },
  {
   "cell_type": "code",
   "execution_count": 5,
   "metadata": {},
   "outputs": [],
   "source": [
    "# Define the area of interest.\n",
    "# vector_file = 'data/lake_chad_extent.geojson'\n",
    "# gdf = gpd.read_file(vector_file)\n",
    "\n",
    "# bbox=list(gdf.total_bounds)\n",
    "# lon_range = (bbox[0], bbox[2])\n",
    "# lat_range = (bbox[1], bbox[3])\n",
    "\n",
    "# Define the area of interest.\n",
    "lat = -5.9460  # -6.0873\n",
    "lon = 35.5188  # 35.1817\n",
    "\n",
    "lat_buffer = 0.03\n",
    "lon_buffer = 0.03\n",
    "\n",
    "# Combine central lat,lon with buffer to get area of interest.\n",
    "lat_range = (lat - lat_buffer, lat + lat_buffer)\n",
    "lon_range = (lon - lon_buffer, lon + lon_buffer)\n",
    "\n",
    "# Define the time range.\n",
    "time_range = \"2020\"\n",
    "\n",
    "# Define the resolution to load the data.\n",
    "resolution = (-10, 10)\n",
    "\n",
    "# Define the dask chunks to be used.\n",
    "dask_chunks = {\"time\": 1, \"x\": 1500, \"y\": 1500}"
   ]
  },
  {
   "cell_type": "markdown",
   "metadata": {},
   "source": [
    "## View the area of Interest on an interactive map\n",
    "The next cell will display the selected area on an interactive map.\n",
    "The red border represents the area of interest of the study.\n",
    "Zoom in and out to get a better understanding of the area of interest.\n",
    "Clicking anywhere on the map will reveal the latitude and longitude coordinates of the clicked point."
   ]
  },
  {
   "cell_type": "code",
   "execution_count": 6,
   "metadata": {},
   "outputs": [
    {
     "data": {
      "text/html": [
       "<div style=\"width:100%;\"><div style=\"position:relative;width:100%;height:0;padding-bottom:60%;\"><span style=\"color:#565656\">Make this Notebook Trusted to load map: File -> Trust Notebook</span><iframe src=\"about:blank\" style=\"position:absolute;width:100%;height:100%;left:0;top:0;border:none !important;\" data-html=%3C%21DOCTYPE%20html%3E%0A%3Chead%3E%20%20%20%20%0A%20%20%20%20%3Cmeta%20http-equiv%3D%22content-type%22%20content%3D%22text/html%3B%20charset%3DUTF-8%22%20/%3E%0A%20%20%20%20%0A%20%20%20%20%20%20%20%20%3Cscript%3E%0A%20%20%20%20%20%20%20%20%20%20%20%20L_NO_TOUCH%20%3D%20false%3B%0A%20%20%20%20%20%20%20%20%20%20%20%20L_DISABLE_3D%20%3D%20false%3B%0A%20%20%20%20%20%20%20%20%3C/script%3E%0A%20%20%20%20%0A%20%20%20%20%3Cstyle%3Ehtml%2C%20body%20%7Bwidth%3A%20100%25%3Bheight%3A%20100%25%3Bmargin%3A%200%3Bpadding%3A%200%3B%7D%3C/style%3E%0A%20%20%20%20%3Cstyle%3E%23map%20%7Bposition%3Aabsolute%3Btop%3A0%3Bbottom%3A0%3Bright%3A0%3Bleft%3A0%3B%7D%3C/style%3E%0A%20%20%20%20%3Cscript%20src%3D%22https%3A//cdn.jsdelivr.net/npm/leaflet%401.6.0/dist/leaflet.js%22%3E%3C/script%3E%0A%20%20%20%20%3Cscript%20src%3D%22https%3A//code.jquery.com/jquery-1.12.4.min.js%22%3E%3C/script%3E%0A%20%20%20%20%3Cscript%20src%3D%22https%3A//maxcdn.bootstrapcdn.com/bootstrap/3.2.0/js/bootstrap.min.js%22%3E%3C/script%3E%0A%20%20%20%20%3Cscript%20src%3D%22https%3A//cdnjs.cloudflare.com/ajax/libs/Leaflet.awesome-markers/2.0.2/leaflet.awesome-markers.js%22%3E%3C/script%3E%0A%20%20%20%20%3Clink%20rel%3D%22stylesheet%22%20href%3D%22https%3A//cdn.jsdelivr.net/npm/leaflet%401.6.0/dist/leaflet.css%22/%3E%0A%20%20%20%20%3Clink%20rel%3D%22stylesheet%22%20href%3D%22https%3A//maxcdn.bootstrapcdn.com/bootstrap/3.2.0/css/bootstrap.min.css%22/%3E%0A%20%20%20%20%3Clink%20rel%3D%22stylesheet%22%20href%3D%22https%3A//maxcdn.bootstrapcdn.com/bootstrap/3.2.0/css/bootstrap-theme.min.css%22/%3E%0A%20%20%20%20%3Clink%20rel%3D%22stylesheet%22%20href%3D%22https%3A//maxcdn.bootstrapcdn.com/font-awesome/4.6.3/css/font-awesome.min.css%22/%3E%0A%20%20%20%20%3Clink%20rel%3D%22stylesheet%22%20href%3D%22https%3A//cdnjs.cloudflare.com/ajax/libs/Leaflet.awesome-markers/2.0.2/leaflet.awesome-markers.css%22/%3E%0A%20%20%20%20%3Clink%20rel%3D%22stylesheet%22%20href%3D%22https%3A//cdn.jsdelivr.net/gh/python-visualization/folium/folium/templates/leaflet.awesome.rotate.min.css%22/%3E%0A%20%20%20%20%0A%20%20%20%20%20%20%20%20%20%20%20%20%3Cmeta%20name%3D%22viewport%22%20content%3D%22width%3Ddevice-width%2C%0A%20%20%20%20%20%20%20%20%20%20%20%20%20%20%20%20initial-scale%3D1.0%2C%20maximum-scale%3D1.0%2C%20user-scalable%3Dno%22%20/%3E%0A%20%20%20%20%20%20%20%20%20%20%20%20%3Cstyle%3E%0A%20%20%20%20%20%20%20%20%20%20%20%20%20%20%20%20%23map_6a2a8b952820414b99612e34d88fe844%20%7B%0A%20%20%20%20%20%20%20%20%20%20%20%20%20%20%20%20%20%20%20%20position%3A%20relative%3B%0A%20%20%20%20%20%20%20%20%20%20%20%20%20%20%20%20%20%20%20%20width%3A%20100.0%25%3B%0A%20%20%20%20%20%20%20%20%20%20%20%20%20%20%20%20%20%20%20%20height%3A%20100.0%25%3B%0A%20%20%20%20%20%20%20%20%20%20%20%20%20%20%20%20%20%20%20%20left%3A%200.0%25%3B%0A%20%20%20%20%20%20%20%20%20%20%20%20%20%20%20%20%20%20%20%20top%3A%200.0%25%3B%0A%20%20%20%20%20%20%20%20%20%20%20%20%20%20%20%20%7D%0A%20%20%20%20%20%20%20%20%20%20%20%20%3C/style%3E%0A%20%20%20%20%20%20%20%20%0A%3C/head%3E%0A%3Cbody%3E%20%20%20%20%0A%20%20%20%20%0A%20%20%20%20%20%20%20%20%20%20%20%20%3Cdiv%20class%3D%22folium-map%22%20id%3D%22map_6a2a8b952820414b99612e34d88fe844%22%20%3E%3C/div%3E%0A%20%20%20%20%20%20%20%20%0A%3C/body%3E%0A%3Cscript%3E%20%20%20%20%0A%20%20%20%20%0A%20%20%20%20%20%20%20%20%20%20%20%20var%20map_6a2a8b952820414b99612e34d88fe844%20%3D%20L.map%28%0A%20%20%20%20%20%20%20%20%20%20%20%20%20%20%20%20%22map_6a2a8b952820414b99612e34d88fe844%22%2C%0A%20%20%20%20%20%20%20%20%20%20%20%20%20%20%20%20%7B%0A%20%20%20%20%20%20%20%20%20%20%20%20%20%20%20%20%20%20%20%20center%3A%20%5B-5.946%2C%2035.5188%5D%2C%0A%20%20%20%20%20%20%20%20%20%20%20%20%20%20%20%20%20%20%20%20crs%3A%20L.CRS.EPSG3857%2C%0A%20%20%20%20%20%20%20%20%20%20%20%20%20%20%20%20%20%20%20%20zoom%3A%2013%2C%0A%20%20%20%20%20%20%20%20%20%20%20%20%20%20%20%20%20%20%20%20zoomControl%3A%20true%2C%0A%20%20%20%20%20%20%20%20%20%20%20%20%20%20%20%20%20%20%20%20preferCanvas%3A%20false%2C%0A%20%20%20%20%20%20%20%20%20%20%20%20%20%20%20%20%7D%0A%20%20%20%20%20%20%20%20%20%20%20%20%29%3B%0A%0A%20%20%20%20%20%20%20%20%20%20%20%20%0A%0A%20%20%20%20%20%20%20%20%0A%20%20%20%20%0A%20%20%20%20%20%20%20%20%20%20%20%20var%20tile_layer_4d1fc66969194c50ae7f41b98de9cbde%20%3D%20L.tileLayer%28%0A%20%20%20%20%20%20%20%20%20%20%20%20%20%20%20%20%22http%3A//mt1.google.com/vt/lyrs%3Dy%5Cu0026z%3D%7Bz%7D%5Cu0026x%3D%7Bx%7D%5Cu0026y%3D%7By%7D%22%2C%0A%20%20%20%20%20%20%20%20%20%20%20%20%20%20%20%20%7B%22attribution%22%3A%20%22Google%22%2C%20%22detectRetina%22%3A%20false%2C%20%22maxNativeZoom%22%3A%2018%2C%20%22maxZoom%22%3A%2018%2C%20%22minZoom%22%3A%200%2C%20%22noWrap%22%3A%20false%2C%20%22opacity%22%3A%201%2C%20%22subdomains%22%3A%20%22abc%22%2C%20%22tms%22%3A%20false%7D%0A%20%20%20%20%20%20%20%20%20%20%20%20%29.addTo%28map_6a2a8b952820414b99612e34d88fe844%29%3B%0A%20%20%20%20%20%20%20%20%0A%20%20%20%20%0A%20%20%20%20%20%20%20%20%20%20%20%20var%20poly_line_571e019d3cc749818c05a235ae6108e6%20%3D%20L.polyline%28%0A%20%20%20%20%20%20%20%20%20%20%20%20%20%20%20%20%5B%5B-5.976%2C%2035.4888%5D%2C%20%5B-5.976%2C%2035.5488%5D%2C%20%5B-5.9159999999999995%2C%2035.5488%5D%2C%20%5B-5.9159999999999995%2C%2035.4888%5D%2C%20%5B-5.976%2C%2035.4888%5D%5D%2C%0A%20%20%20%20%20%20%20%20%20%20%20%20%20%20%20%20%7B%22bubblingMouseEvents%22%3A%20true%2C%20%22color%22%3A%20%22red%22%2C%20%22dashArray%22%3A%20null%2C%20%22dashOffset%22%3A%20null%2C%20%22fill%22%3A%20false%2C%20%22fillColor%22%3A%20%22red%22%2C%20%22fillOpacity%22%3A%200.2%2C%20%22fillRule%22%3A%20%22evenodd%22%2C%20%22lineCap%22%3A%20%22round%22%2C%20%22lineJoin%22%3A%20%22round%22%2C%20%22noClip%22%3A%20false%2C%20%22opacity%22%3A%200.8%2C%20%22smoothFactor%22%3A%201.0%2C%20%22stroke%22%3A%20true%2C%20%22weight%22%3A%203%7D%0A%20%20%20%20%20%20%20%20%20%20%20%20%29.addTo%28map_6a2a8b952820414b99612e34d88fe844%29%3B%0A%20%20%20%20%20%20%20%20%0A%20%20%20%20%0A%20%20%20%20%20%20%20%20%20%20%20%20%20%20%20%20var%20lat_lng_popup_1b64eba98bee4152a1488383a3bcc11b%20%3D%20L.popup%28%29%3B%0A%20%20%20%20%20%20%20%20%20%20%20%20%20%20%20%20function%20latLngPop%28e%29%20%7B%0A%20%20%20%20%20%20%20%20%20%20%20%20%20%20%20%20%20%20%20%20lat_lng_popup_1b64eba98bee4152a1488383a3bcc11b%0A%20%20%20%20%20%20%20%20%20%20%20%20%20%20%20%20%20%20%20%20%20%20%20%20.setLatLng%28e.latlng%29%0A%20%20%20%20%20%20%20%20%20%20%20%20%20%20%20%20%20%20%20%20%20%20%20%20.setContent%28%22Latitude%3A%20%22%20%2B%20e.latlng.lat.toFixed%284%29%20%2B%0A%20%20%20%20%20%20%20%20%20%20%20%20%20%20%20%20%20%20%20%20%20%20%20%20%20%20%20%20%20%20%20%20%20%20%20%20%22%3Cbr%3ELongitude%3A%20%22%20%2B%20e.latlng.lng.toFixed%284%29%29%0A%20%20%20%20%20%20%20%20%20%20%20%20%20%20%20%20%20%20%20%20%20%20%20%20.openOn%28map_6a2a8b952820414b99612e34d88fe844%29%3B%0A%20%20%20%20%20%20%20%20%20%20%20%20%20%20%20%20%20%20%20%20%7D%0A%20%20%20%20%20%20%20%20%20%20%20%20%20%20%20%20map_6a2a8b952820414b99612e34d88fe844.on%28%27click%27%2C%20latLngPop%29%3B%0A%20%20%20%20%20%20%20%20%20%20%20%20%0A%3C/script%3E onload=\"this.contentDocument.open();this.contentDocument.write(    decodeURIComponent(this.getAttribute('data-html')));this.contentDocument.close();\" allowfullscreen webkitallowfullscreen mozallowfullscreen></iframe></div></div>"
      ],
      "text/plain": [
       "<folium.folium.Map at 0x7f93dd6f7dc0>"
      ]
     },
     "execution_count": 6,
     "metadata": {},
     "output_type": "execute_result"
    }
   ],
   "source": [
    "display_map(lon_range, lat_range)"
   ]
  },
  {
   "cell_type": "markdown",
   "metadata": {},
   "source": [
    "## Load the Sentinel-1 data\n",
    "\n",
    "The code below will create a query dictionary for our region of interest, and then load Sentinel-1 satellite data.\n",
    "For more information on loading data, see the [Loading data notebook](../Beginners_guide/03_Loading_data.ipynb)."
   ]
  },
  {
   "cell_type": "code",
   "execution_count": 7,
   "metadata": {},
   "outputs": [
    {
     "name": "stdout",
     "output_type": "stream",
     "text": [
      "Using pixel quality parameters for Sentinel 1\n",
      "Finding datasets\n",
      "    s1_rtc\n",
      "Applying pixel quality/cloud mask\n",
      "Returning 86 time steps as a dask array\n",
      "<xarray.Dataset>\n",
      "Dimensions:      (time: 86, y: 763, x: 580)\n",
      "Coordinates:\n",
      "  * time         (time) datetime64[ns] 2020-01-07T03:12:45.511815 ... 2020-12...\n",
      "  * y            (y) float64 -7.534e+05 -7.534e+05 ... -7.61e+05 -7.61e+05\n",
      "  * x            (x) float64 3.424e+06 3.424e+06 3.424e+06 ... 3.43e+06 3.43e+06\n",
      "    spatial_ref  int32 6933\n",
      "Data variables:\n",
      "    vv           (time, y, x) float32 dask.array<chunksize=(1, 763, 580), meta=np.ndarray>\n",
      "    vh           (time, y, x) float32 dask.array<chunksize=(1, 763, 580), meta=np.ndarray>\n",
      "Attributes:\n",
      "    crs:           EPSG:6933\n",
      "    grid_mapping:  spatial_ref\n"
     ]
    },
    {
     "name": "stderr",
     "output_type": "stream",
     "text": [
      "/env/lib/python3.8/site-packages/datacube/utils/geometry/_base.py:608: ShapelyDeprecationWarning: Iteration over multi-part geometries is deprecated and will be removed in Shapely 2.0. Use the `geoms` property to access the constituent parts of a multi-part geometry.\n",
      "  return type(geom)([segmentize_shapely(g) for g in geom])\n"
     ]
    }
   ],
   "source": [
    "# Create a query object.\n",
    "query = {\n",
    "    \"x\": lon_range,\n",
    "    \"y\": lat_range,\n",
    "    \"resolution\": resolution,\n",
    "    \"output_crs\": \"EPSG:6933\",\n",
    "    \"time\": time_range,\n",
    "    \"dask_chunks\": dask_chunks,\n",
    "}\n",
    "\n",
    "# Load the Sentinel-1 data.\n",
    "ds = load_ard(\n",
    "    dc=dc, products=[\"s1_rtc\"], measurements=[\"vv\", \"vh\"], group_by=\"solar_day\", **query\n",
    ")\n",
    "\n",
    "print(ds)"
   ]
  },
  {
   "cell_type": "markdown",
   "metadata": {},
   "source": [
    "## Convert the Sentinel-1 Digital Number (DN) values to Decibel values (dB)\n",
    "\n",
    "The Sentinel-1 backscatter data is provided as digital number (DN), which can be converted to backscatter in decibel unit (dB) using the function:\n",
    "\n",
    "\\begin{equation}\n",
    "10 * \\log_{10}(\\text{DN})\n",
    "\\end{equation}\n",
    "\n",
    "\n",
    "It is often useful to convert the backscatter to decible (dB) for analysis because the backscatter in dB unit has a more symmetric noise profile and less skewed value distribution for easier statistical evaluation."
   ]
  },
  {
   "cell_type": "code",
   "execution_count": 8,
   "metadata": {},
   "outputs": [],
   "source": [
    "# Convert DN to db values.\n",
    "ds[\"vv_db\"] = 10 * xr.ufuncs.log10(ds.vv)\n",
    "ds[\"vh_db\"] = 10 * xr.ufuncs.log10(ds.vh)"
   ]
  },
  {
   "cell_type": "markdown",
   "metadata": {},
   "source": [
    "## Calculate the Sentinel-1A Water Index (SWI)\n",
    "The Sentinel-1A water index (SWI) is calculated as follows:\n",
    "\n",
    "\\begin{equation} \n",
    "\\text{SWI} = 0.1747 * \\beta _{vv} + 0.0082 * \\beta _{vh} * \\beta _{vv} + 0.0023 * \\beta _{vv}^{2} - 0.0015 * \\beta _{vh}^{2} + 0.1904\n",
    "\\end{equation}\n",
    "\n",
    "where  βvh and βvv represent the backscattering coefficient in VH polarization and VV polarization, respectively ([Tian et al., 2017](https://doi.org/10.3390/rs9060521)). "
   ]
  },
  {
   "cell_type": "code",
   "execution_count": 9,
   "metadata": {},
   "outputs": [
    {
     "name": "stdout",
     "output_type": "stream",
     "text": [
      "<xarray.Dataset>\n",
      "Dimensions:      (time: 86, y: 763, x: 580)\n",
      "Coordinates:\n",
      "  * time         (time) datetime64[ns] 2020-01-07T03:12:45.511815 ... 2020-12...\n",
      "  * y            (y) float64 -7.534e+05 -7.534e+05 ... -7.61e+05 -7.61e+05\n",
      "  * x            (x) float64 3.424e+06 3.424e+06 3.424e+06 ... 3.43e+06 3.43e+06\n",
      "    spatial_ref  int32 6933\n",
      "Data variables:\n",
      "    vv           (time, y, x) float32 dask.array<chunksize=(1, 763, 580), meta=np.ndarray>\n",
      "    vh           (time, y, x) float32 dask.array<chunksize=(1, 763, 580), meta=np.ndarray>\n",
      "    vv_db        (time, y, x) float32 dask.array<chunksize=(1, 763, 580), meta=np.ndarray>\n",
      "    vh_db        (time, y, x) float32 dask.array<chunksize=(1, 763, 580), meta=np.ndarray>\n",
      "    SWI          (time, y, x) float32 dask.array<chunksize=(1, 763, 580), meta=np.ndarray>\n",
      "Attributes:\n",
      "    crs:           EPSG:6933\n",
      "    grid_mapping:  spatial_ref\n"
     ]
    }
   ],
   "source": [
    "# Calculate the Sentinel-1A Water Index (SWI)\n",
    "ds[\"SWI\"] = (\n",
    "    (0.1747 * ds.vv_db)\n",
    "    + (0.0082 * ds.vh_db * ds.vv_db)\n",
    "    + (0.0023 * ds.vv_db ** 2)\n",
    "    - (0.0015 * ds.vh_db ** 2)\n",
    "    + 0.1904\n",
    ")\n",
    "\n",
    "print(ds)"
   ]
  },
  {
   "cell_type": "markdown",
   "metadata": {},
   "source": [
    "## Generate a median value composite image\n",
    "\n",
    "We will combine all the SWI observations in our in our `ds.SWI` `xarray.DataArray` into a single, complete (or near complete) image representing the median of the time period.\n",
    "\n",
    "> **Note:** Because our data was lazily loaded with `dask`, the median algorithm itself will not be triggered until we call the `.compute()` method in the next step."
   ]
  },
  {
   "cell_type": "code",
   "execution_count": 10,
   "metadata": {},
   "outputs": [
    {
     "name": "stdout",
     "output_type": "stream",
     "text": [
      "<xarray.DataArray 'SWI' (y: 763, x: 580)>\n",
      "dask.array<nanmedian, shape=(763, 580), dtype=float32, chunksize=(763, 290), chunktype=numpy.ndarray>\n",
      "Coordinates:\n",
      "  * y            (y) float64 -7.534e+05 -7.534e+05 ... -7.61e+05 -7.61e+05\n",
      "  * x            (x) float64 3.424e+06 3.424e+06 3.424e+06 ... 3.43e+06 3.43e+06\n",
      "    spatial_ref  int32 6933\n"
     ]
    }
   ],
   "source": [
    "# Obtain the median of all SWI observations for the time period.\n",
    "median_swi = ds.SWI.median(dim=\"time\")\n",
    "\n",
    "print(median_swi)"
   ]
  },
  {
   "cell_type": "markdown",
   "metadata": {},
   "source": [
    "### Run the computation\n",
    "\n",
    "The `.compute()` method will trigger the computation of the geomedian algorithm above.\n",
    "This will take about a few minutes to run; view the `dask dashboard` to check the progress."
   ]
  },
  {
   "cell_type": "code",
   "execution_count": 11,
   "metadata": {},
   "outputs": [
    {
     "name": "stdout",
     "output_type": "stream",
     "text": [
      "CPU times: user 942 ms, sys: 67.2 ms, total: 1.01 s\n",
      "Wall time: 19.9 s\n"
     ]
    }
   ],
   "source": [
    "%%time\n",
    "median_swi = median_swi.compute()"
   ]
  },
  {
   "cell_type": "markdown",
   "metadata": {},
   "source": [
    "If we print our result, you will see that the `time` dimension has now been removed and we are left with a single image that represents the median of all the satellite images in our initial time series:"
   ]
  },
  {
   "cell_type": "code",
   "execution_count": 12,
   "metadata": {},
   "outputs": [
    {
     "name": "stdout",
     "output_type": "stream",
     "text": [
      "<xarray.DataArray 'SWI' (y: 763, x: 580)>\n",
      "array([[-0.15904312, -0.15904312, -0.35027042, ..., -0.408829  ,\n",
      "        -0.408829  , -0.3908611 ],\n",
      "       [-0.33595067, -0.33595067, -0.39850464, ..., -0.37829578,\n",
      "        -0.37829578, -0.41433433],\n",
      "       [-0.33595067, -0.33595067, -0.39850464, ..., -0.37829578,\n",
      "        -0.37829578, -0.41433433],\n",
      "       ...,\n",
      "       [-0.26490408, -0.26490408, -0.20912361, ..., -0.37857378,\n",
      "        -0.37857378, -0.39753294],\n",
      "       [-0.26490408, -0.26490408, -0.20912361, ..., -0.37857378,\n",
      "        -0.37857378, -0.39753294],\n",
      "       [-0.23768371, -0.23768371, -0.25455642, ..., -0.38008252,\n",
      "        -0.38008252, -0.39786503]], dtype=float32)\n",
      "Coordinates:\n",
      "  * y            (y) float64 -7.534e+05 -7.534e+05 ... -7.61e+05 -7.61e+05\n",
      "  * x            (x) float64 3.424e+06 3.424e+06 3.424e+06 ... 3.43e+06 3.43e+06\n",
      "    spatial_ref  int32 6933\n"
     ]
    }
   ],
   "source": [
    "print(median_swi)"
   ]
  },
  {
   "cell_type": "markdown",
   "metadata": {},
   "source": [
    "## Classify the SWI median composite"
   ]
  },
  {
   "cell_type": "markdown",
   "metadata": {},
   "source": [
    "[Tian et al. 2020]( https://doi.org/10.3390/s20174872) found that to obtain the best classification results for distinguishing water and non-water from the SWI images, pixels with a value greater than 0.2 are regarded as a water."
   ]
  },
  {
   "cell_type": "code",
   "execution_count": 13,
   "metadata": {},
   "outputs": [
    {
     "name": "stdout",
     "output_type": "stream",
     "text": [
      "<xarray.DataArray 'SWI' (y: 763, x: 580)>\n",
      "array([[0, 0, 0, ..., 0, 0, 0],\n",
      "       [0, 0, 0, ..., 0, 0, 0],\n",
      "       [0, 0, 0, ..., 0, 0, 0],\n",
      "       ...,\n",
      "       [0, 0, 0, ..., 0, 0, 0],\n",
      "       [0, 0, 0, ..., 0, 0, 0],\n",
      "       [0, 0, 0, ..., 0, 0, 0]], dtype=int16)\n",
      "Coordinates:\n",
      "  * y            (y) float64 -7.534e+05 -7.534e+05 ... -7.61e+05 -7.61e+05\n",
      "  * x            (x) float64 3.424e+06 3.424e+06 3.424e+06 ... 3.43e+06 3.43e+06\n",
      "    spatial_ref  int32 6933\n"
     ]
    }
   ],
   "source": [
    "water_ds = median_swi > 0.2\n",
    "\n",
    "# Replace the values True and False with 1 and 0 respectively.\n",
    "repl_dict = {True: 1, False: 0}\n",
    "\n",
    "input_array = water_ds.values\n",
    "\n",
    "out = np.zeros(input_array.shape, dtype=np.int16)\n",
    "\n",
    "for key in repl_dict:\n",
    "    out[input_array == key] = repl_dict[key]\n",
    "\n",
    "water_ds.values = out\n",
    "\n",
    "print(water_ds)"
   ]
  },
  {
   "cell_type": "code",
   "execution_count": 14,
   "metadata": {},
   "outputs": [
    {
     "data": {
      "image/png": "[encoded data removed]",
      "text/plain": [
       "<Figure size 1080x1080 with 2 Axes>"
      ]
     },
     "metadata": {
      "needs_background": "light"
     },
     "output_type": "display_data"
    }
   ],
   "source": [
    "# Plot the water_ds Dataset.\n",
    "image = water_ds\n",
    "no_classes = 2\n",
    "colour_list = [\"#fde725\", \"#440154\"]\n",
    "cmap = mcolours.ListedColormap(colour_list)\n",
    "bounds = range(0, no_classes + 1)\n",
    "norm = mcolours.BoundaryNorm(np.array(bounds), cmap.N)\n",
    "cblabels = [\"Land\", \"Water\"]\n",
    "im = image.plot.imshow(cmap=cmap, norm=norm, add_colorbar=True, figsize=(15, 15))\n",
    "cb = im.colorbar\n",
    "cb.set_ticks(np.arange(0, no_classes + 1, 1) + 0.5)\n",
    "cb.set_ticklabels(cblabels)\n",
    "plt.axis(\"off\")\n",
    "plt.title(\"SWI water predicted image\")\n",
    "plt.show()"
   ]
  },
  {
   "cell_type": "markdown",
   "metadata": {},
   "source": [
    "In the `water_ds` xarray Dataset the value `1` represents water and the value `0` represents land."
   ]
  },
  {
   "cell_type": "markdown",
   "metadata": {},
   "source": [
    "## Accuracy test against the ESA World Cover"
   ]
  },
  {
   "cell_type": "code",
   "execution_count": 15,
   "metadata": {},
   "outputs": [
    {
     "name": "stdout",
     "output_type": "stream",
     "text": [
      "<xarray.Dataset>\n",
      "Dimensions:         (y: 763, x: 580)\n",
      "Coordinates:\n",
      "    time            datetime64[ns] 2020-07-01T12:00:00\n",
      "  * y               (y) float64 -7.534e+05 -7.534e+05 ... -7.61e+05 -7.61e+05\n",
      "  * x               (x) float64 3.424e+06 3.424e+06 ... 3.43e+06 3.43e+06\n",
      "    spatial_ref     int32 6933\n",
      "Data variables:\n",
      "    classification  (y, x) uint8 30 30 30 30 20 20 20 ... 40 40 40 40 40 40 40\n",
      "Attributes:\n",
      "    crs:           PROJCS[\"WGS 84 / NSIDC EASE-Grid 2.0 Global\",GEOGCS[\"WGS 8...\n",
      "    grid_mapping:  spatial_ref\n"
     ]
    }
   ],
   "source": [
    "# Load the ESA land use land cover product over the same region as the Sentinel 1 dataset.\n",
    "ds_esa = dc.load(product=\"esa_worldcover\", like=ds.geobox).squeeze()\n",
    "\n",
    "print(ds_esa)"
   ]
  },
  {
   "cell_type": "code",
   "execution_count": 16,
   "metadata": {},
   "outputs": [
    {
     "data": {
      "image/png": "[encoded data removed]",
      "text/plain": [
       "<Figure size 576x504 with 2 Axes>"
      ]
     },
     "metadata": {
      "needs_background": "light"
     },
     "output_type": "display_data"
    }
   ],
   "source": [
    "# Plot the  permanent water bodies from the ESA worldcover dataset.\n",
    "water_esa = ds_esa.where(ds_esa[\"classification\"] == 80)\n",
    "plot_lulc(water_esa[\"classification\"], product=\"ESA\", legend=True, figsize=(8, 7))\n",
    "plt.title(\"ESA WorldCover Permamnet Water Bodies Landocover\");"
   ]
  },
  {
   "cell_type": "code",
   "execution_count": 17,
   "metadata": {},
   "outputs": [
    {
     "name": "stdout",
     "output_type": "stream",
     "text": [
      "<xarray.DataArray 'classification' (y: 763, x: 580)>\n",
      "array([[0, 0, 0, ..., 0, 0, 0],\n",
      "       [0, 0, 0, ..., 0, 0, 0],\n",
      "       [0, 0, 0, ..., 0, 0, 0],\n",
      "       ...,\n",
      "       [0, 0, 0, ..., 0, 0, 0],\n",
      "       [0, 0, 0, ..., 0, 0, 0],\n",
      "       [0, 0, 0, ..., 0, 0, 0]], dtype=int16)\n",
      "Coordinates:\n",
      "    time         datetime64[ns] 2020-07-01T12:00:00\n",
      "  * y            (y) float64 -7.534e+05 -7.534e+05 ... -7.61e+05 -7.61e+05\n",
      "  * x            (x) float64 3.424e+06 3.424e+06 3.424e+06 ... 3.43e+06 3.43e+06\n",
      "    spatial_ref  int32 6933\n"
     ]
    }
   ],
   "source": [
    "# Pixels with a value of 80 are classified as permanent water bodies land cover.\n",
    "# Mask the ESA land cover dataset to retain only pixels with the value 80.\n",
    "actual = ds_esa[\"classification\"] == 80\n",
    "\n",
    "# Replace the values True and False with 1 and 0 respectively.\n",
    "repl_dict = {True: 1, False: 0}\n",
    "\n",
    "input_array = actual.values\n",
    "\n",
    "out = np.zeros(input_array.shape, dtype=np.int16)\n",
    "\n",
    "for key in repl_dict:\n",
    "    out[input_array == key] = repl_dict[key]\n",
    "\n",
    "actual.values = out\n",
    "\n",
    "print(actual)"
   ]
  },
  {
   "cell_type": "code",
   "execution_count": 18,
   "metadata": {},
   "outputs": [],
   "source": [
    "## Functions to be imported later from classifications.py\n",
    "def sklearn_flatten(input_xr):\n",
    "    \"\"\"\n",
    "    Reshape a DataArray or Dataset with spatial (and optionally\n",
    "    temporal) structure into an np.array with the spatial and temporal\n",
    "    dimensions flattened into one dimension.\n",
    "    This flattening procedure enables DataArrays and Datasets to be used\n",
    "    to train and predict with sklearn models.\n",
    "    Last modified: November 2021\n",
    "    Parameters\n",
    "    ----------\n",
    "    input_xr : xarray.DataArray or xarray.Dataset\n",
    "        Must have dimensions 'x' and 'y', may have dimension 'time'.\n",
    "        Dimensions other than 'x', 'y' and 'time' are unaffected by the\n",
    "        flattening.\n",
    "    Returns\n",
    "    ----------\n",
    "    input_np : numpy.array\n",
    "        A numpy array corresponding to input_xr.data (or\n",
    "        input_xr.to_array().data), with dimensions 'x','y' and 'time'\n",
    "        flattened into a single dimension, which is the first axis of\n",
    "        the returned array. input_np contains no NaNs.\n",
    "    \"\"\"\n",
    "\n",
    "    # Cast input DataArrays to Dataset.\n",
    "    if isinstance(input_xr, xr.DataArray):\n",
    "        input_xr = input_xr.to_dataset()\n",
    "\n",
    "    # Work around for input_xr Dataset with geographic coordinate reference system.\n",
    "    if input_xr.geobox.crs.geographic:\n",
    "        input_xr = input_xr.rename({\"longitude\": \"x\", \"latitude\": \"y\"})\n",
    "\n",
    "    # Get the data type for the input_xr Dataset data values.\n",
    "    data_type = input_xr.to_array().data.dtype\n",
    "\n",
    "    # Get the number of bands in the input_xr Dataset.\n",
    "    bands_list = list(input_xr.data_vars)\n",
    "    nbands = len(bands_list)\n",
    "    # Create a dictionary of the bands and their index in the list bands_list.\n",
    "    bands_dict = {k: v for k, v in enumerate(bands_list)}\n",
    "\n",
    "    # Get the dimensions x , y of the input_xr Dataset.\n",
    "    height = input_xr.dims[\"y\"]\n",
    "    width = input_xr.dims[\"x\"]\n",
    "\n",
    "    # Get the dimension time of the input_xr Dataset.\n",
    "    # Create an empty numpy array, input_np, in which each column will hold a\n",
    "    # flattened band/measurement from the input_xr Dataset.\n",
    "    if \"time\" in input_xr.dims:\n",
    "        time = input_xr.dims[\"time\"]\n",
    "        input_np = np.empty((height * width * time, nbands), dtype=data_type)\n",
    "    else:\n",
    "        input_np = np.empty((height * width, nbands), dtype=data_type)\n",
    "\n",
    "    # Loop through each band in the input_xr Dataset and add it\n",
    "    # to the numpy array model_input.\n",
    "    for i, band in bands_dict.items():\n",
    "        band_array = np.array(input_xr[band])\n",
    "        input_np[:, i - 1] = band_array.flatten()\n",
    "\n",
    "    return input_np\n",
    "\n",
    "\n",
    "def sklearn_unflatten(output_np, input_xr):\n",
    "    \"\"\"\n",
    "    Reshape a numpy array with no 'missing' elements (NaNs) and\n",
    "    'flattened' spatiotemporal structure into a DataArray matching the\n",
    "    spatiotemporal structure of the DataArray\n",
    "    This enables an sklearn model's prediction to be remapped to the\n",
    "    correct pixels in the input DataArray or Dataset.\n",
    "    Last modified: November 2021\n",
    "    Parameters\n",
    "    ----------\n",
    "    output_np : numpy.array\n",
    "        The first dimension's length should correspond to the number of\n",
    "        valid (non-NaN) pixels in input_xr.\n",
    "    input_xr : xarray.DataArray or xarray.Dataset\n",
    "        Must have dimensions 'x' and 'y', may have dimension 'time'.\n",
    "        Dimensions other than 'x', 'y' and 'time' are unaffected by the\n",
    "        flattening.\n",
    "    Returns\n",
    "    ----------\n",
    "    output_xr : xarray.Dataset\n",
    "        An xarray.Dataset with the same dimensions 'x', 'y' and 'time'\n",
    "        as input_xr, and the same valid (non-NaN) pixels. These pixels\n",
    "        are set to match the data in output_np.\n",
    "    \"\"\"\n",
    "\n",
    "    # The  expected output of a sklearn model prediction should just be\n",
    "    # a 1 dimensional numpy array, output_np, with the size/columns matching\n",
    "    # the height * width * time  for the dimensions of the input_xr DataArray/Dataset.\n",
    "\n",
    "    # Cast the input DataArray to Dataset.\n",
    "    if isinstance(input_xr, xr.DataArray):\n",
    "        input_xr = input_xr.to_dataset()\n",
    "\n",
    "    # Work around for input_xr Dataset with geographic coordinate reference system.\n",
    "    if input_xr.geobox.crs.geographic:\n",
    "        input_xr = input_xr.rename({\"longitude\": \"x\", \"latitude\": \"y\"})\n",
    "\n",
    "    # Get the dimensions x , y of the input_xr Dataset.\n",
    "    height = input_xr.dims[\"y\"]\n",
    "    width = input_xr.dims[\"x\"]\n",
    "\n",
    "    # Get the dimension time of the input_xr Dataset.\n",
    "    if \"time\" in input_xr.dims:\n",
    "        time = input_xr.dims[\"time\"]\n",
    "        # Reshape the output_np numpy array.\n",
    "        output_np = output_np.reshape((time, height, width))\n",
    "        # Convert the output_np numpy array into a xarray Dataset.\n",
    "        output_xr = xr.Dataset(\n",
    "            data_vars=dict(band=([\"time\", \"y\", \"x\"], output_np)),\n",
    "            coords=dict(\n",
    "                time=([\"time\"], input_xr.coords[\"time\"].values),\n",
    "                y=([\"y\"], input_xr.coords[\"y\"].values),\n",
    "                x=([\"x\"], input_xr.coords[\"x\"].values),\n",
    "                spatial_ref=input_xr.coords[\"spatial_ref\"].values,\n",
    "            ),\n",
    "            attrs=input_xr.attrs,\n",
    "        )\n",
    "    else:\n",
    "        # Reshape the output_np numpy array.\n",
    "        output_np = output_np.reshape((height, width))\n",
    "        # Convert the output_np numpy array into a xarray Dataset.\n",
    "        output_xr = xr.Dataset(\n",
    "            data_vars=dict(band=([\"y\", \"x\"], output_np)),\n",
    "            coords=dict(\n",
    "                y=([\"y\"], input_xr.coords[\"y\"].values),\n",
    "                x=([\"x\"], input_xr.coords[\"x\"].values),\n",
    "                spatial_ref=input_xr.coords[\"spatial_ref\"].values,\n",
    "            ),\n",
    "            attrs=input_xr.attrs,\n",
    "        )\n",
    "\n",
    "    output_xr = assign_crs(output_xr, input_xr.geobox.crs)\n",
    "\n",
    "    # Work around for input_xr Dataset with geographic coordinate reference system.\n",
    "    if input_xr.geobox.crs.geographic:\n",
    "        output_xr = output_xr.rename({\"x\": \"longitude\", \"y\": \"latitude\"})\n",
    "\n",
    "    return output_xr"
   ]
  },
  {
   "cell_type": "code",
   "execution_count": 19,
   "metadata": {},
   "outputs": [
    {
     "name": "stdout",
     "output_type": "stream",
     "text": [
      "\u001b[1m\u001b[91mRadar Water Mapping using SWI compared with ESA Worldcover\n",
      "\u001b[0m\n",
      "Overall Accuracy: \t\t 96.494\n",
      "Micro-averaged F1 score: \t 96.494\n",
      "Kappa coefficient: \t\t 0.908\n",
      "\n",
      "                       Water    Land\n",
      "-------------------  -------  ------\n",
      "Producer's Accuracy   91.777  98.138\n",
      "User's Accuracy       94.5    97.162\n"
     ]
    }
   ],
   "source": [
    "# Accuracy metrics.\n",
    "\n",
    "y_true = sklearn_flatten(actual)\n",
    "y_pred = sklearn_flatten(water_ds)\n",
    "\n",
    "# Producer's Accuracies.\n",
    "precision = precision_score(y_true, y_pred, labels=[0, 1], average=None)\n",
    "water_precision = precision[1] * 100\n",
    "land_precision = precision[0] * 100\n",
    "\n",
    "# User's Accuracies.\n",
    "recall = recall_score(y_true, y_pred, labels=[0, 1], average=None)\n",
    "water_recall = recall[1] * 100\n",
    "land_recall = recall[0] * 100\n",
    "\n",
    "# Overall Accuracy.\n",
    "accuracy = accuracy_score(y_true, y_pred, normalize=True)\n",
    "overall_accuracy = accuracy * 100\n",
    "\n",
    "# Micro-averaged F1 score.\n",
    "f1score = f1_score(y_true, y_pred, average=\"micro\") * 100\n",
    "\n",
    "# Kappa coefficient.\n",
    "kappa = cohen_kappa_score(y_true, y_pred)\n",
    "\n",
    "\n",
    "print(\n",
    "    \"\\033[1m\"\n",
    "    + \"\\033[91m\"\n",
    "    + \"Radar Water Mapping using SWI compared with ESA Worldcover\"\n",
    ")  # bold print and red\n",
    "print(\"\\033[0m\")  # stop bold and red\n",
    "print(\"Overall Accuracy: \\t\\t\", round(overall_accuracy, 3))\n",
    "print(\"Micro-averaged F1 score: \\t\", round(f1score, 3))\n",
    "print(\"Kappa coefficient: \\t\\t\", round(kappa, 3))\n",
    "print(\"\")\n",
    "table1 = [\n",
    "    (\n",
    "        \"Producer's Accuracy\",\n",
    "        round(water_precision, 3),\n",
    "        round(land_precision, 3),\n",
    "    ),\n",
    "    (\n",
    "        \"User's Accuracy\",\n",
    "        round(water_recall, 3),\n",
    "        round(land_recall, 3),\n",
    "    ),\n",
    "]\n",
    "print(tabulate(table1, stralign=\"left\", headers=(\"\", \"Water\", \"Land\")))"
   ]
  },
  {
   "cell_type": "markdown",
   "metadata": {},
   "source": [
    "## Accuracy test against WOfS annual summaries"
   ]
  },
  {
   "cell_type": "code",
   "execution_count": 20,
   "metadata": {},
   "outputs": [
    {
     "name": "stdout",
     "output_type": "stream",
     "text": [
      "<xarray.Dataset>\n",
      "Dimensions:      (time: 1, y: 763, x: 580)\n",
      "Coordinates:\n",
      "  * time         (time) datetime64[ns] 2020-07-01T23:59:59.999999\n",
      "  * y            (y) float64 -7.534e+05 -7.534e+05 ... -7.61e+05 -7.61e+05\n",
      "  * x            (x) float64 3.424e+06 3.424e+06 3.424e+06 ... 3.43e+06 3.43e+06\n",
      "    spatial_ref  int32 6933\n",
      "Data variables:\n",
      "    count_wet    (time, y, x) int16 0 0 0 0 0 0 0 0 0 0 ... 0 0 0 0 0 0 0 0 0 0\n",
      "    count_clear  (time, y, x) int16 25 25 26 26 26 26 26 ... 23 23 23 23 23 23\n",
      "    frequency    (time, y, x) float32 0.0 0.0 0.0 0.0 0.0 ... 0.0 0.0 0.0 0.0\n",
      "Attributes:\n",
      "    crs:           PROJCS[\"WGS 84 / NSIDC EASE-Grid 2.0 Global\",GEOGCS[\"WGS 8...\n",
      "    grid_mapping:  spatial_ref\n"
     ]
    }
   ],
   "source": [
    "wofs_annual = dc.load(product=\"wofs_ls_summary_annual\", like=ds.geobox, time=\"2020\")\n",
    "\n",
    "print(wofs_annual)"
   ]
  },
  {
   "cell_type": "markdown",
   "metadata": {},
   "source": [
    "The plot below will have values that range from 0 to 1. Values that approach 1 indicate a permanent waterbody, while values closer to 0 indicate a more ephemeral or seasonal waterbody."
   ]
  },
  {
   "cell_type": "code",
   "execution_count": 21,
   "metadata": {},
   "outputs": [
    {
     "data": {
      "image/png": "[encoded data removed]",
      "text/plain": [
       "<Figure size 648x432 with 2 Axes>"
      ]
     },
     "metadata": {
      "needs_background": "light"
     },
     "output_type": "display_data"
    }
   ],
   "source": [
    "wofs_annual.frequency.plot(size=6, cmap=sns.color_palette(\"mako_r\", as_cmap=True))\n",
    "plt.title(\"WOfS Annual Summary for 2020\");"
   ]
  },
  {
   "cell_type": "markdown",
   "metadata": {},
   "source": [
    "If wofs_annual.frequency is > 0.20, then the pixel will be considered regular open water during the year. "
   ]
  },
  {
   "cell_type": "code",
   "execution_count": 22,
   "metadata": {},
   "outputs": [
    {
     "name": "stdout",
     "output_type": "stream",
     "text": [
      "<xarray.DataArray 'frequency' (time: 1, y: 763, x: 580)>\n",
      "array([[[0, 0, 0, ..., 0, 0, 0],\n",
      "        [0, 0, 0, ..., 0, 0, 0],\n",
      "        [0, 0, 0, ..., 0, 0, 0],\n",
      "        ...,\n",
      "        [0, 0, 0, ..., 0, 0, 0],\n",
      "        [0, 0, 0, ..., 0, 0, 0],\n",
      "        [0, 0, 0, ..., 0, 0, 0]]], dtype=int16)\n",
      "Coordinates:\n",
      "  * time         (time) datetime64[ns] 2020-07-01T23:59:59.999999\n",
      "  * y            (y) float64 -7.534e+05 -7.534e+05 ... -7.61e+05 -7.61e+05\n",
      "  * x            (x) float64 3.424e+06 3.424e+06 3.424e+06 ... 3.43e+06 3.43e+06\n",
      "    spatial_ref  int32 6933\n"
     ]
    }
   ],
   "source": [
    "water_threshold = 0.20\n",
    "\n",
    "water_wofs = wofs_annual.frequency > water_threshold\n",
    "\n",
    "# Replace the values True and False with 1 and 0 respectively.\n",
    "repl_dict = {True: 1, False: 0}\n",
    "\n",
    "input_array = water_wofs.values\n",
    "\n",
    "out = np.zeros(input_array.shape, dtype=np.int16)\n",
    "\n",
    "for key in repl_dict:\n",
    "    out[input_array == key] = repl_dict[key]\n",
    "\n",
    "water_wofs.values = out\n",
    "\n",
    "print(water_wofs)"
   ]
  },
  {
   "cell_type": "code",
   "execution_count": 23,
   "metadata": {},
   "outputs": [
    {
     "name": "stdout",
     "output_type": "stream",
     "text": [
      "\u001b[1m\u001b[91mRadar Water Mapping using SWI compared with WOfS annual summaries\n",
      "\u001b[0m\n",
      "Overall Accuracy: \t\t 95.523\n",
      "Micro-averaged F1 score: \t 95.523\n",
      "Kappa coefficient: \t\t 0.889\n",
      "\n",
      "                       Water    Land\n",
      "-------------------  -------  ------\n",
      "Producer's Accuracy   98.895  94.347\n",
      "User's Accuracy       85.913  99.593\n"
     ]
    }
   ],
   "source": [
    "# Accuracy metrics.\n",
    "\n",
    "y_true = sklearn_flatten(water_wofs)\n",
    "y_pred = sklearn_flatten(water_ds)\n",
    "\n",
    "# Producer's Accuracies.\n",
    "precision = precision_score(y_true, y_pred, labels=[0, 1], average=None)\n",
    "water_precision = precision[1] * 100\n",
    "land_precision = precision[0] * 100\n",
    "\n",
    "# User's Accuracies.\n",
    "recall = recall_score(y_true, y_pred, labels=[0, 1], average=None)\n",
    "water_recall = recall[1] * 100\n",
    "land_recall = recall[0] * 100\n",
    "\n",
    "# Overall Accuracy.\n",
    "accuracy = accuracy_score(y_true, y_pred, normalize=True)\n",
    "overall_accuracy = accuracy * 100\n",
    "\n",
    "# Micro-averaged F1 score.\n",
    "f1score = f1_score(y_true, y_pred, average=\"micro\") * 100\n",
    "\n",
    "# Kappa coefficient.\n",
    "kappa = cohen_kappa_score(y_true, y_pred)\n",
    "\n",
    "\n",
    "print(\n",
    "    \"\\033[1m\"\n",
    "    + \"\\033[91m\"\n",
    "    + \"Radar Water Mapping using SWI compared with WOfS annual summaries\"\n",
    ")  # bold print and red\n",
    "print(\"\\033[0m\")  # stop bold and red\n",
    "print(\"Overall Accuracy: \\t\\t\", round(overall_accuracy, 3))\n",
    "print(\"Micro-averaged F1 score: \\t\", round(f1score, 3))\n",
    "print(\"Kappa coefficient: \\t\\t\", round(kappa, 3))\n",
    "print(\"\")\n",
    "table1 = [\n",
    "    (\n",
    "        \"Producer's Accuracy\",\n",
    "        round(water_precision, 3),\n",
    "        round(land_precision, 3),\n",
    "    ),\n",
    "    (\n",
    "        \"User's Accuracy\",\n",
    "        round(water_recall, 3),\n",
    "        round(land_recall, 3),\n",
    "    ),\n",
    "]\n",
    "print(tabulate(table1, stralign=\"left\", headers=(\"\", \"Water\", \"Land\")))"
   ]
  },
  {
   "cell_type": "markdown",
   "metadata": {},
   "source": [
    "## Accuracy assessment against MNDWI"
   ]
  },
  {
   "cell_type": "code",
   "execution_count": 24,
   "metadata": {},
   "outputs": [
    {
     "name": "stdout",
     "output_type": "stream",
     "text": [
      "Using pixel quality parameters for Sentinel 2\n",
      "Finding datasets\n",
      "    s2_l2a\n",
      "Applying morphological filters to pq mask [('opening', 3), ('dilation', 2)]\n",
      "Applying pixel quality/cloud mask\n",
      "Returning 72 time steps as a dask array\n",
      "<xarray.Dataset>\n",
      "Dimensions:      (time: 72, y: 763, x: 580)\n",
      "Coordinates:\n",
      "  * time         (time) datetime64[ns] 2020-01-04T08:01:37 ... 2020-12-24T08:...\n",
      "  * y            (y) float64 -7.534e+05 -7.534e+05 ... -7.61e+05 -7.61e+05\n",
      "  * x            (x) float64 3.424e+06 3.424e+06 3.424e+06 ... 3.43e+06 3.43e+06\n",
      "    spatial_ref  int32 6933\n",
      "Data variables:\n",
      "    green        (time, y, x) float32 dask.array<chunksize=(1, 763, 580), meta=np.ndarray>\n",
      "    swir_1       (time, y, x) float32 dask.array<chunksize=(1, 763, 580), meta=np.ndarray>\n",
      "Attributes:\n",
      "    crs:           EPSG:6933\n",
      "    grid_mapping:  spatial_ref\n"
     ]
    }
   ],
   "source": [
    "# Create a query object.\n",
    "query = {\n",
    "    \"x\": lon_range,\n",
    "    \"y\": lat_range,\n",
    "    \"resolution\": (-10, 10),\n",
    "    \"output_crs\": \"EPSG:6933\",\n",
    "    \"time\": time_range,\n",
    "    \"dask_chunks\": dask_chunks,\n",
    "}\n",
    "\n",
    "\n",
    "# load Sentinel 2 data\n",
    "ds_S2 = load_ard(\n",
    "    dc=dc,\n",
    "    products=[\"s2_l2a\"],\n",
    "    measurements=[\"green\", \"swir_1\"],\n",
    "    mask_filters=[(\"opening\", 3), (\"dilation\", 2)],  # improve cloud mask\n",
    "    group_by=\"solar_day\",\n",
    "    **query\n",
    ")\n",
    "\n",
    "\n",
    "print(ds_S2)"
   ]
  },
  {
   "cell_type": "code",
   "execution_count": 25,
   "metadata": {},
   "outputs": [
    {
     "name": "stdout",
     "output_type": "stream",
     "text": [
      "Dropping bands ['green', 'swir_1']\n"
     ]
    }
   ],
   "source": [
    "# Calculate the MNDWI water index\n",
    "ds_S2 = calculate_indices(ds=ds_S2, index=\"MNDWI\", collection=\"s2\", drop=True)"
   ]
  },
  {
   "cell_type": "code",
   "execution_count": 26,
   "metadata": {},
   "outputs": [],
   "source": [
    "median_MNDWI = ds_S2.MNDWI.median(\"time\")"
   ]
  },
  {
   "cell_type": "code",
   "execution_count": 27,
   "metadata": {},
   "outputs": [
    {
     "data": {
      "image/png": "[encoded data removed]",
      "text/plain": [
       "<Figure size 432x288 with 2 Axes>"
      ]
     },
     "metadata": {
      "needs_background": "light"
     },
     "output_type": "display_data"
    }
   ],
   "source": [
    "median_MNDWI.plot.imshow( cmap='RdBu', vmax=1.0, vmin=-1.0);"
   ]
  },
  {
   "cell_type": "markdown",
   "metadata": {},
   "source": [
    "Calculates the area of pixels classified as water (if MNDWI is > 0, the water)"
   ]
  },
  {
   "cell_type": "code",
   "execution_count": 28,
   "metadata": {},
   "outputs": [
    {
     "name": "stdout",
     "output_type": "stream",
     "text": [
      "<xarray.DataArray 'MNDWI' (y: 763, x: 580)>\n",
      "array([[0, 0, 0, ..., 0, 0, 0],\n",
      "       [0, 0, 0, ..., 0, 0, 0],\n",
      "       [0, 0, 0, ..., 0, 0, 0],\n",
      "       ...,\n",
      "       [0, 0, 0, ..., 0, 0, 0],\n",
      "       [0, 0, 0, ..., 0, 0, 0],\n",
      "       [0, 0, 0, ..., 0, 0, 0]], dtype=int16)\n",
      "Coordinates:\n",
      "  * y            (y) float64 -7.534e+05 -7.534e+05 ... -7.61e+05 -7.61e+05\n",
      "  * x            (x) float64 3.424e+06 3.424e+06 3.424e+06 ... 3.43e+06 3.43e+06\n",
      "    spatial_ref  int32 6933\n"
     ]
    }
   ],
   "source": [
    "water_MNDWI = median_MNDWI > 0\n",
    "\n",
    "# Replace the values True and False with 1 and 0 respectively.\n",
    "repl_dict = {True: 1, False: 0}\n",
    "\n",
    "input_array = water_MNDWI.values\n",
    "\n",
    "out = np.zeros(input_array.shape, dtype=np.int16)\n",
    "\n",
    "for key in repl_dict:\n",
    "    out[input_array == key] = repl_dict[key]\n",
    "\n",
    "water_MNDWI.values = out\n",
    "\n",
    "print(water_MNDWI)"
   ]
  },
  {
   "cell_type": "code",
   "execution_count": 29,
   "metadata": {},
   "outputs": [
    {
     "name": "stdout",
     "output_type": "stream",
     "text": [
      "\u001b[1m\u001b[91mRadar Water Mapping using SWI compared with MNDWI\n",
      "\u001b[0m\n",
      "Overall Accuracy: \t\t 96.776\n",
      "Micro-averaged F1 score: \t 96.776\n",
      "Kappa coefficient: \t\t 0.918\n",
      "\n",
      "                       Water    Land\n",
      "-------------------  -------  ------\n",
      "Producer's Accuracy   96.996  96.699\n",
      "User's Accuracy       91.107  98.929\n"
     ]
    }
   ],
   "source": [
    "# Accuracy metrics.\n",
    "\n",
    "y_true = sklearn_flatten(water_MNDWI)\n",
    "y_pred = sklearn_flatten(water_ds)\n",
    "\n",
    "# Producer's Accuracies.\n",
    "precision = precision_score(y_true, y_pred, labels=[0, 1], average=None)\n",
    "water_precision = precision[1] * 100\n",
    "land_precision = precision[0] * 100\n",
    "\n",
    "# User's Accuracies.\n",
    "recall = recall_score(y_true, y_pred, labels=[0, 1], average=None)\n",
    "water_recall = recall[1] * 100\n",
    "land_recall = recall[0] * 100\n",
    "\n",
    "# Overall Accuracy.\n",
    "accuracy = accuracy_score(y_true, y_pred, normalize=True)\n",
    "overall_accuracy = accuracy * 100\n",
    "\n",
    "# Micro-averaged F1 score.\n",
    "f1score = f1_score(y_true, y_pred, average=\"micro\") * 100\n",
    "\n",
    "# Kappa coefficient.\n",
    "kappa = cohen_kappa_score(y_true, y_pred)\n",
    "\n",
    "\n",
    "print(\n",
    "    \"\\033[1m\" + \"\\033[91m\" + \"Radar Water Mapping using SWI compared with MNDWI\"\n",
    ")  # bold print and red\n",
    "print(\"\\033[0m\")  # stop bold and red\n",
    "print(\"Overall Accuracy: \\t\\t\", round(overall_accuracy, 3))\n",
    "print(\"Micro-averaged F1 score: \\t\", round(f1score, 3))\n",
    "print(\"Kappa coefficient: \\t\\t\", round(kappa, 3))\n",
    "print(\"\")\n",
    "table1 = [\n",
    "    (\n",
    "        \"Producer's Accuracy\",\n",
    "        round(water_precision, 3),\n",
    "        round(land_precision, 3),\n",
    "    ),\n",
    "    (\n",
    "        \"User's Accuracy\",\n",
    "        round(water_recall, 3),\n",
    "        round(land_recall, 3),\n",
    "    ),\n",
    "]\n",
    "print(tabulate(table1, stralign=\"left\", headers=(\"\", \"Water\", \"Land\")))"
   ]
  },
  {
   "cell_type": "markdown",
   "metadata": {},
   "source": [
    "---\n",
    "\n",
    "## Additional information\n",
    "\n",
    "**License:** The code in this notebook is licensed under the [Apache License, Version 2.0](https://www.apache.org/licenses/LICENSE-2.0). \n",
    "Digital Earth Africa data is licensed under the [Creative Commons by Attribution 4.0](https://creativecommons.org/licenses/by/4.0/) license.\n",
    "\n",
    "**Contact:** If you need assistance, please post a question on the [Open Data Cube Slack channel](http://slack.opendatacube.org/) or on the [GIS Stack Exchange](https://gis.stackexchange.com/questions/ask?tags=open-data-cube) using the `open-data-cube` tag (you can view previously asked questions [here](https://gis.stackexchange.com/questions/tagged/open-data-cube)).\n",
    "If you would like to report an issue with this notebook, you can file one on [Github](https://github.com/digitalearthafrica/deafrica-sandbox-notebooks).\n",
    "\n",
    "**Compatible datacube version:**"
   ]
  },
  {
   "cell_type": "code",
   "execution_count": 30,
   "metadata": {},
   "outputs": [
    {
     "name": "stdout",
     "output_type": "stream",
     "text": [
      "1.8.6\n"
     ]
    }
   ],
   "source": [
    "print(datacube.__version__)"
   ]
  },
  {
   "cell_type": "markdown",
   "metadata": {},
   "source": [
    "**Last Tested:**"
   ]
  },
  {
   "cell_type": "code",
   "execution_count": 31,
   "metadata": {
    "raw_mimetype": "text/restructuredtext"
   },
   "outputs": [
    {
     "data": {
      "text/plain": [
       "'2021-12-07'"
      ]
     },
     "execution_count": 31,
     "metadata": {},
     "output_type": "execute_result"
    }
   ],
   "source": [
    "from datetime import datetime\n",
    "datetime.today().strftime('%Y-%m-%d')"
   ]
  }
 ],
 "metadata": {
  "kernelspec": {
   "display_name": "Python 3 (ipykernel)",
   "language": "python",
   "name": "python3"
  },
  "language_info": {
   "codemirror_mode": {
    "name": "ipython",
    "version": 3
   },
   "file_extension": ".py",
   "mimetype": "text/x-python",
   "name": "python",
   "nbconvert_exporter": "python",
   "pygments_lexer": "ipython3",
   "version": "3.8.10"
  },
  "widgets": {
   "application/vnd.jupyter.widget-state+json": {
    "state": {
     "151c716e01de42e398bf54cd8cd29602": {
      "model_module": "@jupyter-widgets/controls",
      "model_module_version": "1.5.0",
      "model_name": "DescriptionStyleModel",
      "state": {
       "description_width": ""
      }
     },
     "18b9ef71d49043cfafb2a891787c189a": {
      "model_module": "@jupyter-widgets/controls",
      "model_module_version": "1.5.0",
      "model_name": "DescriptionStyleModel",
      "state": {
       "description_width": ""
      }
     },
     "4cd5a66832e345e4bbb8490ce5d71dce": {
      "model_module": "@jupyter-widgets/controls",
      "model_module_version": "1.5.0",
      "model_name": "FloatProgressModel",
      "state": {
       "layout": "IPY_MODEL_72829023ed9b4676a9425ddd221e7098",
       "max": 61,
       "style": "IPY_MODEL_83478023986541f8a273a1d54dc58bca",
       "value": 61
      }
     },
     "6124672c047e40598768f85060429e81": {
      "model_module": "@jupyter-widgets/base",
      "model_module_version": "1.2.0",
      "model_name": "LayoutModel",
      "state": {}
     },
     "68109c0feec844eb88b51cd32c537669": {
      "model_module": "@jupyter-widgets/base",
      "model_module_version": "1.2.0",
      "model_name": "LayoutModel",
      "state": {}
     },
     "72829023ed9b4676a9425ddd221e7098": {
      "model_module": "@jupyter-widgets/base",
      "model_module_version": "1.2.0",
      "model_name": "LayoutModel",
      "state": {}
     },
     "7abee18368734eb880dad0a6be1853e7": {
      "model_module": "@jupyter-widgets/controls",
      "model_module_version": "1.5.0",
      "model_name": "HTMLModel",
      "state": {
       "layout": "IPY_MODEL_6124672c047e40598768f85060429e81",
       "style": "IPY_MODEL_151c716e01de42e398bf54cd8cd29602",
       "value": " 62/? (0.0 seconds remaining at  2.76 frames/s)"
      }
     },
     "83478023986541f8a273a1d54dc58bca": {
      "model_module": "@jupyter-widgets/controls",
      "model_module_version": "1.5.0",
      "model_name": "ProgressStyleModel",
      "state": {
       "description_width": ""
      }
     },
     "94619b23d2c149e39af86f8c76ba9942": {
      "model_module": "@jupyter-widgets/controls",
      "model_module_version": "1.5.0",
      "model_name": "HBoxModel",
      "state": {
       "children": [
        "IPY_MODEL_cf4e09d0643c40118653e8bb7a4f2a69",
        "IPY_MODEL_4cd5a66832e345e4bbb8490ce5d71dce",
        "IPY_MODEL_7abee18368734eb880dad0a6be1853e7"
       ],
       "layout": "IPY_MODEL_e11da1d8a3c64706944cc530359b5c44"
      }
     },
     "cf4e09d0643c40118653e8bb7a4f2a69": {
      "model_module": "@jupyter-widgets/controls",
      "model_module_version": "1.5.0",
      "model_name": "HTMLModel",
      "state": {
       "layout": "IPY_MODEL_68109c0feec844eb88b51cd32c537669",
       "style": "IPY_MODEL_18b9ef71d49043cfafb2a891787c189a"
      }
     },
     "e11da1d8a3c64706944cc530359b5c44": {
      "model_module": "@jupyter-widgets/base",
      "model_module_version": "1.2.0",
      "model_name": "LayoutModel",
      "state": {}
     }
    },
    "version_major": 2,
    "version_minor": 0
   }
  }
 },
 "nbformat": 4,
 "nbformat_minor": 4
}
