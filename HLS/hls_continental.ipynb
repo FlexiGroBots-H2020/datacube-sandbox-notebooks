{
 "cells": [
  {
   "cell_type": "markdown",
   "metadata": {},
   "source": [
    "# Harmonising Landsat and sentinel\n",
    "\n",
    "* **Products used:** \n"
   ]
  },
  {
   "cell_type": "raw",
   "metadata": {
    "raw_mimetype": "text/restructuredtext"
   },
   "source": [
    "**Keywords**: :index:`data used; landsat 8`, :index:`analysis; change detection`, :index:`band index; NDVI`, :index:`band index; EVI`, :index:`forestry`"
   ]
  },
  {
   "cell_type": "markdown",
   "metadata": {},
   "source": [
    "### Background \n",
    "\n",
    "### Description\n",
    "\n",
    "\n",
    "***"
   ]
  },
  {
   "cell_type": "markdown",
   "metadata": {},
   "source": [
    "## Getting started\n"
   ]
  },
  {
   "cell_type": "markdown",
   "metadata": {},
   "source": [
    "### Load packages\n",
    "Load key Python packages and any supporting functions for the analysis."
   ]
  },
  {
   "cell_type": "code",
   "execution_count": 1,
   "metadata": {},
   "outputs": [
    {
     "name": "stderr",
     "output_type": "stream",
     "text": [
      "/env/lib/python3.8/site-packages/datacube/storage/masking.py:7: DeprecationWarning: datacube.storage.masking has moved to datacube.utils.masking\n",
      "  warnings.warn(\"datacube.storage.masking has moved to datacube.utils.masking\",\n"
     ]
    }
   ],
   "source": [
    "import datacube\n",
    "import datacube.utils.rio\n",
    "import matplotlib.pyplot as plt\n",
    "import numpy as np\n",
    "import seaborn as sns\n",
    "from scipy import stats\n",
    "import pandas as pd\n",
    "import xarray as xr\n",
    "import geopandas as gpd\n",
    "from odc.io.cgroups import get_cpu_quota\n",
    "from datacube.utils.geometry import assign_crs\n",
    "from deafrica_tools.datahandling import load_ard\n",
    "from deafrica_tools.plotting import map_shapefile\n",
    "from deafrica_tools.bandindices import calculate_indices\n",
    "from deafrica_tools.classification import collect_training_data\n",
    "\n",
    "#This will speed up loading data\n",
    "datacube.utils.rio.set_default_rio_config(aws='auto', cloud_defaults=True)"
   ]
  },
  {
   "cell_type": "markdown",
   "metadata": {
    "tags": []
   },
   "source": [
    "### Analysis parameters\n"
   ]
  },
  {
   "cell_type": "code",
   "execution_count": 7,
   "metadata": {},
   "outputs": [],
   "source": [
    "path = 'data/harmonization_training.geojson' \n",
    "field = 'Class'\n",
    "# Set up the inputs for the ODC query\n",
    "time = ('2020')\n",
    "measurements =  ['red','nir']\n",
    "resolution = (-30,30)\n",
    "output_crs='epsg:6933'\n",
    "\n",
    "sample_size=10"
   ]
  },
  {
   "cell_type": "code",
   "execution_count": 8,
   "metadata": {},
   "outputs": [
    {
     "name": "stdout",
     "output_type": "stream",
     "text": [
      "ncpus = 4\n"
     ]
    }
   ],
   "source": [
    "ncpus=round(get_cpu_quota())\n",
    "print('ncpus = '+str(ncpus))"
   ]
  },
  {
   "cell_type": "markdown",
   "metadata": {
    "tags": []
   },
   "source": [
    "## View the selected location\n",
    "The next cell will display the selected area on an interactive map.\n",
    "The red border represents the area of interest of the study.\n",
    "Zoom in and out to get a better understanding of the area of interest.\n",
    "Clicking anywhere on the map will reveal the latitude and longitude coordinates of the clicked point."
   ]
  },
  {
   "cell_type": "code",
   "execution_count": 9,
   "metadata": {},
   "outputs": [
    {
     "data": {
      "text/html": [
       "<div>\n",
       "<style scoped>\n",
       "    .dataframe tbody tr th:only-of-type {\n",
       "        vertical-align: middle;\n",
       "    }\n",
       "\n",
       "    .dataframe tbody tr th {\n",
       "        vertical-align: top;\n",
       "    }\n",
       "\n",
       "    .dataframe thead th {\n",
       "        text-align: right;\n",
       "    }\n",
       "</style>\n",
       "<table border=\"1\" class=\"dataframe\">\n",
       "  <thead>\n",
       "    <tr style=\"text-align: right;\">\n",
       "      <th></th>\n",
       "      <th>Class</th>\n",
       "      <th>geometry</th>\n",
       "    </tr>\n",
       "  </thead>\n",
       "  <tbody>\n",
       "    <tr>\n",
       "      <th>0</th>\n",
       "      <td>0</td>\n",
       "      <td>POINT (7.34507 26.97587)</td>\n",
       "    </tr>\n",
       "    <tr>\n",
       "      <th>1</th>\n",
       "      <td>0</td>\n",
       "      <td>POINT (35.09348 -1.34984)</td>\n",
       "    </tr>\n",
       "    <tr>\n",
       "      <th>2</th>\n",
       "      <td>0</td>\n",
       "      <td>POINT (-8.74645 11.05521)</td>\n",
       "    </tr>\n",
       "    <tr>\n",
       "      <th>3</th>\n",
       "      <td>0</td>\n",
       "      <td>POINT (46.88370 -23.15120)</td>\n",
       "    </tr>\n",
       "    <tr>\n",
       "      <th>4</th>\n",
       "      <td>1</td>\n",
       "      <td>POINT (49.00085 -13.12007)</td>\n",
       "    </tr>\n",
       "  </tbody>\n",
       "</table>\n",
       "</div>"
      ],
      "text/plain": [
       "   Class                    geometry\n",
       "0      0    POINT (7.34507 26.97587)\n",
       "1      0   POINT (35.09348 -1.34984)\n",
       "2      0   POINT (-8.74645 11.05521)\n",
       "3      0  POINT (46.88370 -23.15120)\n",
       "4      1  POINT (49.00085 -13.12007)"
      ]
     },
     "execution_count": 9,
     "metadata": {},
     "output_type": "execute_result"
    }
   ],
   "source": [
    "# Load input data shapefile\n",
    "input_data = gpd.read_file(path).sample(sample_size).reset_index(drop=True)\n",
    "\n",
    "input_data.head()"
   ]
  },
  {
   "cell_type": "code",
   "execution_count": 10,
   "metadata": {},
   "outputs": [],
   "source": [
    "query = {\n",
    "    'time':time,\n",
    "    'measurements': measurements,\n",
    "    'resolution': resolution,\n",
    "    'output_crs': output_crs\n",
    "}"
   ]
  },
  {
   "cell_type": "code",
   "execution_count": 11,
   "metadata": {},
   "outputs": [],
   "source": [
    "def feature_layers(query):\n",
    "    #connect to the datacube\n",
    "    dc = datacube.Datacube(app='feature_layers')\n",
    "    \n",
    "    ds_ls = load_ard(dc=dc,\n",
    "                  products=['ls8_sr'],\n",
    "                  min_gooddata=0.99,\n",
    "                  verbose=False,\n",
    "                  **query,\n",
    "                 )\n",
    "    \n",
    "    ds_ls=calculate_indices(ds_ls, 'NDVI', collection='c2', drop=False)\n",
    "    # load cloud-masked fractional cover using load_ard\n",
    "    ds_s2 = load_ard(dc=dc,\n",
    "                  products=['s2_l2a'],\n",
    "                  like=ds_ls.geobox,\n",
    "                  time=time,\n",
    "                  measurements=['red','nir_2'], #use nir narrow to match with LS8\n",
    "                  min_gooddata=0.99,\n",
    "                  verbose=False\n",
    "                 )\n",
    "\n",
    "    #rename nir2 to trick calculate_indices\n",
    "    ds_s2 = ds_s2.rename({'nir_2':'nir'})\n",
    "    ds_s2 = calculate_indices(ds_s2, 'NDVI', collection='s2', drop=False)\n",
    "    \n",
    "    #match s2 at LS times with 2D tolerance\n",
    "    ds_s2 = ds_s2.reindex(time=ds_ls.time, method='nearest', tolerance='2D')\n",
    "    #grab the timestep with Landsat maximum NDVI, this will ensure we don't get a NaN\n",
    "    t = ds_s2.NDVI.idxmax(\"time\")\n",
    "    ds_s2 = ds_s2.sel(time=t)\n",
    "    ds_ls = ds_ls.sel(time=t)\n",
    "    #rename bands to include sensor\n",
    "    for band in ds_ls.data_vars:\n",
    "        ds_ls = ds_ls.rename({band: band + '_ls8'})\n",
    "        \n",
    "    #rename bands to include sensor\n",
    "    for band in ds_s2.data_vars:\n",
    "        ds_s2 = ds_s2.rename({band: band + '_s2'})\n",
    "        \n",
    "    #merge results into single dataset \n",
    "    result = xr.merge([ds_ls, ds_s2],compat='override')\n",
    "    result = assign_crs(result, crs='epsg:6933')\n",
    "    return result"
   ]
  },
  {
   "cell_type": "code",
   "execution_count": 12,
   "metadata": {},
   "outputs": [
    {
     "name": "stdout",
     "output_type": "stream",
     "text": [
      "Collecting training data in parallel mode\n"
     ]
    },
    {
     "data": {
      "application/vnd.jupyter.widget-view+json": {
       "model_id": "b0afda9e6ea44f2486db16cb9f84b8aa",
       "version_major": 2,
       "version_minor": 0
      },
      "text/plain": [
       "  0%|          | 0/10 [00:00<?, ?it/s]"
      ]
     },
     "metadata": {},
     "output_type": "display_data"
    },
    {
     "name": "stderr",
     "output_type": "stream",
     "text": [
      "CPLReleaseMutex: Error = 1 (Operation not permitted)\n",
      "CPLReleaseMutex: Error = 1 (Operation not permitted)\n"
     ]
    },
    {
     "name": "stdout",
     "output_type": "stream",
     "text": [
      "Percentage of possible fails after run 1 = 0.0 %\n",
      "Removed 0 rows wth NaNs &/or Infs\n",
      "Output shape:  (10, 7)\n"
     ]
    }
   ],
   "source": [
    "column_names, model_input = collect_training_data(\n",
    "                                    gdf=input_data,\n",
    "                                    dc_query=query,\n",
    "                                    ncpus=ncpus,\n",
    "                                    field=field,\n",
    "                                    feature_func=feature_layers,\n",
    "                                    )"
   ]
  },
  {
   "cell_type": "code",
   "execution_count": 15,
   "metadata": {},
   "outputs": [
    {
     "name": "stdout",
     "output_type": "stream",
     "text": [
      "[[   0.      0.03    0.31    0.83  348.   2371.      0.74]\n",
      " [   0.      0.04    0.34    0.8   387.   3171.      0.78]\n",
      " [   0.      0.07    0.32    0.64  853.   3455.      0.6 ]\n",
      " [   0.      0.04    0.32    0.76  443.   3217.      0.76]\n",
      " [   0.      0.36    0.44    0.1  3506.   5154.      0.19]\n",
      " [   1.      0.07    0.22    0.52  555.   1817.      0.53]\n",
      " [   0.      0.05    0.34    0.73  506.   3305.      0.73]\n",
      " [   0.      0.01    0.12    0.81  627.   2674.      0.62]\n",
      " [   1.      0.07    0.34    0.65  592.   3463.      0.71]\n",
      " [   1.      0.06    0.37    0.71  554.   3109.      0.7 ]]\n"
     ]
    }
   ],
   "source": [
    "print(np.array_str(model_input, precision=2, suppress_small=True))"
   ]
  },
  {
   "cell_type": "code",
   "execution_count": 16,
   "metadata": {},
   "outputs": [
    {
     "data": {
      "text/html": [
       "<div>\n",
       "<style scoped>\n",
       "    .dataframe tbody tr th:only-of-type {\n",
       "        vertical-align: middle;\n",
       "    }\n",
       "\n",
       "    .dataframe tbody tr th {\n",
       "        vertical-align: top;\n",
       "    }\n",
       "\n",
       "    .dataframe thead th {\n",
       "        text-align: right;\n",
       "    }\n",
       "</style>\n",
       "<table border=\"1\" class=\"dataframe\">\n",
       "  <thead>\n",
       "    <tr style=\"text-align: right;\">\n",
       "      <th></th>\n",
       "      <th>Class</th>\n",
       "      <th>red_ls8</th>\n",
       "      <th>nir_ls8</th>\n",
       "      <th>NDVI_ls8</th>\n",
       "      <th>red_s2</th>\n",
       "      <th>nir_s2</th>\n",
       "      <th>NDVI_s2</th>\n",
       "    </tr>\n",
       "  </thead>\n",
       "  <tbody>\n",
       "    <tr>\n",
       "      <th>0</th>\n",
       "      <td>0.0</td>\n",
       "      <td>0.028938</td>\n",
       "      <td>0.314883</td>\n",
       "      <td>0.831671</td>\n",
       "      <td>348.0</td>\n",
       "      <td>2371.0</td>\n",
       "      <td>0.744024</td>\n",
       "    </tr>\n",
       "    <tr>\n",
       "      <th>1</th>\n",
       "      <td>0.0</td>\n",
       "      <td>0.038178</td>\n",
       "      <td>0.338643</td>\n",
       "      <td>0.797370</td>\n",
       "      <td>387.0</td>\n",
       "      <td>3171.0</td>\n",
       "      <td>0.782462</td>\n",
       "    </tr>\n",
       "    <tr>\n",
       "      <th>2</th>\n",
       "      <td>0.0</td>\n",
       "      <td>0.071507</td>\n",
       "      <td>0.324315</td>\n",
       "      <td>0.638689</td>\n",
       "      <td>853.0</td>\n",
       "      <td>3455.0</td>\n",
       "      <td>0.603993</td>\n",
       "    </tr>\n",
       "    <tr>\n",
       "      <th>3</th>\n",
       "      <td>0.0</td>\n",
       "      <td>0.044392</td>\n",
       "      <td>0.320685</td>\n",
       "      <td>0.756805</td>\n",
       "      <td>443.0</td>\n",
       "      <td>3217.0</td>\n",
       "      <td>0.757924</td>\n",
       "    </tr>\n",
       "    <tr>\n",
       "      <th>4</th>\n",
       "      <td>0.0</td>\n",
       "      <td>0.357645</td>\n",
       "      <td>0.437395</td>\n",
       "      <td>0.100309</td>\n",
       "      <td>3506.0</td>\n",
       "      <td>5154.0</td>\n",
       "      <td>0.190300</td>\n",
       "    </tr>\n",
       "    <tr>\n",
       "      <th>5</th>\n",
       "      <td>1.0</td>\n",
       "      <td>0.070820</td>\n",
       "      <td>0.222785</td>\n",
       "      <td>0.517583</td>\n",
       "      <td>555.0</td>\n",
       "      <td>1817.0</td>\n",
       "      <td>0.532040</td>\n",
       "    </tr>\n",
       "    <tr>\n",
       "      <th>6</th>\n",
       "      <td>0.0</td>\n",
       "      <td>0.053440</td>\n",
       "      <td>0.340540</td>\n",
       "      <td>0.728717</td>\n",
       "      <td>506.0</td>\n",
       "      <td>3305.0</td>\n",
       "      <td>0.734453</td>\n",
       "    </tr>\n",
       "    <tr>\n",
       "      <th>7</th>\n",
       "      <td>0.0</td>\n",
       "      <td>0.012355</td>\n",
       "      <td>0.115123</td>\n",
       "      <td>0.806162</td>\n",
       "      <td>627.0</td>\n",
       "      <td>2674.0</td>\n",
       "      <td>0.620115</td>\n",
       "    </tr>\n",
       "    <tr>\n",
       "      <th>8</th>\n",
       "      <td>1.0</td>\n",
       "      <td>0.071755</td>\n",
       "      <td>0.341778</td>\n",
       "      <td>0.652966</td>\n",
       "      <td>592.0</td>\n",
       "      <td>3463.0</td>\n",
       "      <td>0.708015</td>\n",
       "    </tr>\n",
       "    <tr>\n",
       "      <th>9</th>\n",
       "      <td>1.0</td>\n",
       "      <td>0.063092</td>\n",
       "      <td>0.372935</td>\n",
       "      <td>0.710603</td>\n",
       "      <td>554.0</td>\n",
       "      <td>3109.0</td>\n",
       "      <td>0.697516</td>\n",
       "    </tr>\n",
       "  </tbody>\n",
       "</table>\n",
       "</div>"
      ],
      "text/plain": [
       "   Class   red_ls8   nir_ls8  NDVI_ls8  red_s2  nir_s2   NDVI_s2\n",
       "0    0.0  0.028938  0.314883  0.831671   348.0  2371.0  0.744024\n",
       "1    0.0  0.038178  0.338643  0.797370   387.0  3171.0  0.782462\n",
       "2    0.0  0.071507  0.324315  0.638689   853.0  3455.0  0.603993\n",
       "3    0.0  0.044392  0.320685  0.756805   443.0  3217.0  0.757924\n",
       "4    0.0  0.357645  0.437395  0.100309  3506.0  5154.0  0.190300\n",
       "5    1.0  0.070820  0.222785  0.517583   555.0  1817.0  0.532040\n",
       "6    0.0  0.053440  0.340540  0.728717   506.0  3305.0  0.734453\n",
       "7    0.0  0.012355  0.115123  0.806162   627.0  2674.0  0.620115\n",
       "8    1.0  0.071755  0.341778  0.652966   592.0  3463.0  0.708015\n",
       "9    1.0  0.063092  0.372935  0.710603   554.0  3109.0  0.697516"
      ]
     },
     "execution_count": 16,
     "metadata": {},
     "output_type": "execute_result"
    }
   ],
   "source": [
    "df = pd.DataFrame(data=model_input, columns=column_names)\n",
    "df.head()"
   ]
  },
  {
   "cell_type": "code",
   "execution_count": 19,
   "metadata": {},
   "outputs": [
    {
     "data": {
      "text/plain": [
       "(10,)"
      ]
     },
     "execution_count": 19,
     "metadata": {},
     "output_type": "execute_result"
    }
   ],
   "source": [
    "df['NDVI_ls8'].values.shape"
   ]
  },
  {
   "cell_type": "markdown",
   "metadata": {
    "tags": []
   },
   "source": [
    "### 1:1 plots"
   ]
  },
  {
   "cell_type": "code",
   "execution_count": 23,
   "metadata": {},
   "outputs": [
    {
     "data": {
      "image/png": "[encoded data removed]",
      "text/plain": [
       "<Figure size 432x432 with 1 Axes>"
      ]
     },
     "metadata": {
      "needs_background": "light"
     },
     "output_type": "display_data"
    }
   ],
   "source": [
    "x=df['NDVI_ls8'].values\n",
    "y=df['NDVI_s2'].values\n",
    "\n",
    "r = stats.spearmanr(x, y)\n",
    "\n",
    "fig, ax = plt.subplots(1,1, sharey=True, figsize=(6,6))\n",
    "\n",
    "sns.regplot(x=x, y=y, ax=ax,\n",
    "              line_kws={'label':\"corr: \"+str(round(r[0],3)), 'color':'red'})\n",
    "ax.legend()\n",
    "ax.set_xlim(0, 1.0)\n",
    "ax.set_ylim(0, 1.0)\n",
    "ax.plot([0, 1], [0, 1], 'k-')\n",
    "ax.set_xlabel('Landsat NDVI')\n",
    "ax.set_ylabel('S2 NDVI')\n",
    "ax.set_title('LS vs S2 NDVI');"
   ]
  },
  {
   "cell_type": "code",
   "execution_count": null,
   "metadata": {},
   "outputs": [],
   "source": []
  }
 ],
 "metadata": {
  "kernelspec": {
   "display_name": "Python 3 (ipykernel)",
   "language": "python",
   "name": "python3"
  },
  "language_info": {
   "codemirror_mode": {
    "name": "ipython",
    "version": 3
   },
   "file_extension": ".py",
   "mimetype": "text/x-python",
   "name": "python",
   "nbconvert_exporter": "python",
   "pygments_lexer": "ipython3",
   "version": "3.8.10"
  },
  "widgets": {
   "application/vnd.jupyter.widget-state+json": {
    "state": {},
    "version_major": 2,
    "version_minor": 0
   }
  }
 },
 "nbformat": 4,
 "nbformat_minor": 4
}
