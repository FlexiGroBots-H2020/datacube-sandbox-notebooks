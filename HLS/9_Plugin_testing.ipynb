{
 "cells": [
  {
   "cell_type": "code",
   "execution_count": null,
   "id": "c4d7b7ef-ea3b-480e-9654-1667609b503a",
   "metadata": {},
   "outputs": [],
   "source": [
    "# !pip install odc-stats==1.0.6 --upgrade"
   ]
  },
  {
   "cell_type": "code",
   "execution_count": null,
   "id": "4b1806ff-36dd-4aae-b2e5-b56138e53e02",
   "metadata": {},
   "outputs": [],
   "source": [
    "!pip uninstall ndvi_tools -y"
   ]
  },
  {
   "cell_type": "code",
   "execution_count": null,
   "id": "2d38455e-8a87-422d-95bf-4701b5155153",
   "metadata": {
    "tags": []
   },
   "outputs": [],
   "source": [
    "!pip install ndvi_tools/"
   ]
  },
  {
   "cell_type": "code",
   "execution_count": null,
   "id": "d55a46c0-cdbf-4b29-a820-795a74f53e56",
   "metadata": {},
   "outputs": [],
   "source": [
    "import os\n",
    "import json\n",
    "import xarray as xr\n",
    "import geopandas as gpd\n",
    "from odc.stats.tasks import TaskReader\n",
    "from odc.stats.model import OutputProduct\n",
    "\n",
    "import datacube\n",
    "from deafrica_tools.plotting import display_map\n",
    "from deafrica_tools.dask import create_local_dask_cluster\n",
    "\n",
    "from ndvi_tools.ndvi_climatology_plugin import NDVIClimatology"
   ]
  },
  {
   "cell_type": "markdown",
   "id": "ffc418d6-d6b7-4f29-b93d-176a8e2cc0fb",
   "metadata": {},
   "source": [
    "## Test functions without odc-stats"
   ]
  },
  {
   "cell_type": "code",
   "execution_count": null,
   "id": "8f9205fb-676f-4b1c-aac7-61c9e44309be",
   "metadata": {},
   "outputs": [],
   "source": [
    "create_local_dask_cluster()"
   ]
  },
  {
   "cell_type": "code",
   "execution_count": null,
   "id": "ae62e5e7-3ca5-48e0-b531-a2474d19d163",
   "metadata": {},
   "outputs": [],
   "source": [
    "dc = datacube.Datacube(app=\"Vegetation_anomalies\")"
   ]
  },
  {
   "cell_type": "code",
   "execution_count": null,
   "id": "8d627297-c6b1-4a4b-bf8a-bd20a333aa92",
   "metadata": {},
   "outputs": [],
   "source": [
    "lat, lon = 34.5117, -5.9119\n",
    "buffer = 0.05\n",
    "# Set the range of dates for the climatology\n",
    "time_range = ('2014', '2016')\n",
    "resolution = (-60, 60)\n",
    "\n",
    "lat_range = (lat-buffer, lat+buffer)\n",
    "lon_range = (lon-buffer, lon+buffer)"
   ]
  },
  {
   "cell_type": "code",
   "execution_count": null,
   "id": "70488c1e-1fff-438e-b72a-31d5c447f39b",
   "metadata": {},
   "outputs": [],
   "source": [
    "# display_map(x=lon_range, y=lat_range)"
   ]
  },
  {
   "cell_type": "code",
   "execution_count": null,
   "id": "f2e2280a-03cb-4ef9-abd3-4bcf05bbb78f",
   "metadata": {},
   "outputs": [],
   "source": [
    "query = {\n",
    "    'x': lon_range,\n",
    "    'y': lat_range,\n",
    "    'time': time_range,\n",
    "    'resolution': resolution,\n",
    "    'output_crs':'epsg:6933',\n",
    "    'measurements':['red','nir','pixel_quality'],\n",
    "    'group_by':'solar_day'\n",
    "#     'dask_chunks':dask_chunks\n",
    "}"
   ]
  },
  {
   "cell_type": "markdown",
   "id": "83dce4ae-088b-4593-b016-da5ae68fbd10",
   "metadata": {},
   "source": [
    "### grab data so we can use the geobox parameter to mimic a 'task'"
   ]
  },
  {
   "cell_type": "code",
   "execution_count": null,
   "id": "eeaba758-9f67-43e5-8c05-4eb20876fd9a",
   "metadata": {},
   "outputs": [],
   "source": [
    "task = dc.load(product='ls8_sr', dask_chunks={}, **query)"
   ]
  },
  {
   "cell_type": "markdown",
   "id": "2dbd9547-57e4-46cb-bb53-17007b950803",
   "metadata": {},
   "source": [
    "### grab lists of datatsets to mimic .db files"
   ]
  },
  {
   "cell_type": "code",
   "execution_count": null,
   "id": "82c2ed95-ba72-4c7a-b0a6-f3b7a00223f4",
   "metadata": {},
   "outputs": [],
   "source": [
    "dss = dc.find_datasets(product=['ls7_sr', 'ls8_sr'], **query)"
   ]
  },
  {
   "cell_type": "markdown",
   "id": "46e5d2ef-13ec-49fb-b991-9f84c111dc2c",
   "metadata": {},
   "source": [
    "### set up an example config"
   ]
  },
  {
   "cell_type": "code",
   "execution_count": null,
   "id": "72e404dc-3349-4cc1-a58e-f6bd55d85423",
   "metadata": {},
   "outputs": [],
   "source": [
    "config = dict(\n",
    "    resampling=\"bilinear\",\n",
    "    bands=[\"red\", \"nir\"],\n",
    "    mask_band=\"QA_PIXEL\",\n",
    "    mask_filters=[[\"opening\", 5], [\"dilation\", 5]],\n",
    "    flags_ls57=dict(cloud=\"high_confidence\", cloud_shadow=\"high_confidence\"),\n",
    "    flags_ls8=dict(\n",
    "        cloud=\"high_confidence\",\n",
    "        cloud_shadow=\"high_confidence\",\n",
    "        cirrus=\"high_confidence\",\n",
    "    ),\n",
    ")"
   ]
  },
  {
   "cell_type": "markdown",
   "id": "796f73e9-6af9-4760-9202-7606ae9c90c5",
   "metadata": {},
   "source": [
    "### Run the plugin code"
   ]
  },
  {
   "cell_type": "code",
   "execution_count": null,
   "id": "789a8629-533d-4ea6-aa00-0915708171da",
   "metadata": {},
   "outputs": [],
   "source": [
    "x=NDVIClimatology(**config)\n",
    "ndvi = x.input_data(dss, task.geobox)\n",
    "result = x.reduce(ndvi).compute()\n",
    "print(result)"
   ]
  },
  {
   "cell_type": "markdown",
   "id": "98493843-8384-4ad6-9e8f-386b138eb1f2",
   "metadata": {},
   "source": [
    "### Plot"
   ]
  },
  {
   "cell_type": "code",
   "execution_count": null,
   "id": "db7808d0-ae09-4c6f-bfaf-367bc13706ba",
   "metadata": {},
   "outputs": [],
   "source": [
    "import matplotlib.pyplot as plt\n",
    "fig,ax=plt.subplots(1,12, sharex=True, sharey=True, figsize=(30,4))\n",
    "for i,j in zip(range(0,12), [\"jan\",\"feb\",\"mar\", \"apr\", \"may\", \"jun\", \"jul\", \"aug\", \"sep\", \"oct\", \"nov\", \"dec\"]):\n",
    "    result['ndvi_clim_mean_'+j].plot.imshow(ax=ax[i], add_colorbar=False, vmin=0)\n",
    "    ax[i].set_title(j)"
   ]
  },
  {
   "cell_type": "code",
   "execution_count": null,
   "id": "6b69c141-15a6-4a30-a8a0-8ccf0f394b2c",
   "metadata": {},
   "outputs": [],
   "source": [
    "import matplotlib.pyplot as plt\n",
    "fig,ax=plt.subplots(1,12, sharex=True, sharey=True, figsize=(30,4))\n",
    "for i,j in zip(range(0,12), [\"jan\",\"feb\",\"mar\", \"apr\", \"may\", \"jun\", \"jul\", \"aug\", \"sep\", \"oct\", \"nov\", \"dec\"]):\n",
    "    result['ndvi_clim_std_'+j].plot.imshow(ax=ax[i], add_colorbar=False)\n",
    "    ax[i].set_title(j)"
   ]
  },
  {
   "cell_type": "markdown",
   "id": "f114407c-6bb2-408a-8e16-461402c30b43",
   "metadata": {},
   "source": [
    "## Test functions with odc-stats"
   ]
  },
  {
   "cell_type": "code",
   "execution_count": null,
   "id": "d2295e09-ec16-4e2e-a6fa-e70e37f8453b",
   "metadata": {},
   "outputs": [],
   "source": [
    "!pip uninstall ndvi_tools -y"
   ]
  },
  {
   "cell_type": "code",
   "execution_count": null,
   "id": "ba4f6711-35a3-413f-af5d-58158b6a58aa",
   "metadata": {
    "tags": []
   },
   "outputs": [],
   "source": [
    "!pip install ndvi_tools/"
   ]
  },
  {
   "cell_type": "code",
   "execution_count": 1,
   "id": "6a222f75-2cde-4b93-9eaa-1af52f4c36bf",
   "metadata": {},
   "outputs": [],
   "source": [
    "import os\n",
    "# from ndvi_tools.ndvi_climatology_plugin import NDVIClimatology"
   ]
  },
  {
   "cell_type": "markdown",
   "id": "730270f3-f130-4490-adc2-245832995833",
   "metadata": {},
   "source": [
    "### Generate tasks etc"
   ]
  },
  {
   "cell_type": "code",
   "execution_count": 2,
   "id": "e73d77b1-d525-4aae-b88a-34b40d484741",
   "metadata": {},
   "outputs": [],
   "source": [
    "# !odc-stats save-tasks --frequency annual --grid africa-30 --temporal-range 2014--P2Y ls7_sr-ls8_sr --frequency all --dataset-filter '{\"collection_category\": \"T1\"}'\n",
    "# !odc-stats save-tasks --frequency annual --grid africa-30 --temporal-range 2014--P2Y ls8_sr --frequency all --dataset-filter '{\"collection_category\": \"T1\"}'"
   ]
  },
  {
   "cell_type": "markdown",
   "id": "bfd8b83a-c408-46cf-bb1d-e788e6091e24",
   "metadata": {},
   "source": [
    "### Try running odc-stats using the config yaml and external plugin"
   ]
  },
  {
   "cell_type": "code",
   "execution_count": 7,
   "id": "709b9d38-3dac-49ad-a965-9f9afdd038ca",
   "metadata": {},
   "outputs": [
    {
     "name": "stdout",
     "output_type": "stream",
     "text": [
      "[2021-11-10 05:06:43,622] {_cli_run.py:139} INFO - Config overrides: {'filedb': 'ls7_sr-ls8_sr_2014--P2Y.db', 'threads': 4, 'memory_limit': '29Gi', 'output_location': 'file:///home/jovyan/git/deafrica-sandbox-notebooks/frica-sandbox-notebooks/HLS/{product}/{version}'}\n",
      "[2021-11-10 05:06:43,622] {_cli_run.py:158} INFO - Using this config: TaskRunnerConfig(filedb='ls7_sr-ls8_sr_2014--P2Y.db', aws_unsigned=True, plugin='NDVIClimatology', plugin_config={'resampling': 'bilinear', 'bands': ['red', 'nir'], 'mask_band': 'QA_PIXEL', 'mask_filters': [['opening', 5], ['dilation', 5]], 'flags_ls57': {'cloud': 'high_confidence', 'cloud_shadow': 'high_confidence'}, 'flags_ls8': {'cloud': 'high_confidence', 'cloud_shadow': 'high_confidence', 'cirrus': 'high_confidence'}}, product={'name': 'ndvi_climatology', 'short_name': 'ndvi_climatology', 'version': '0.0.1', 'collections_site': 'explorer.digitalearth.africa', 'producer': 'digitalearthafrica.org', 'region_code_format': 'x{x:03d}y{y:03d}'}, threads=4, memory_limit='29Gi', output_location='file:///home/jovyan/git/deafrica-sandbox-notebooks/frica-sandbox-notebooks/HLS/{product}/{version}', s3_acl='bucket-owner-full-control', s3_public=False, cog_opts={'compress': 'deflate', 'zlevel': 4, 'blocksize': 800, 'ovr_blocksize': 256, 'overview_resampling': 'average', 'overrides': {'rgba': {'compress': 'JPEG', 'jpeg_quality': 90}}}, overwrite=False, heartbeat_filepath=None, max_processing_time=3600, job_queue_max_lease=900, renew_safety_margin=60, future_poll_interval=2)\n",
      "[2021-11-10 05:06:43,622] {proc.py:44} INFO - Resolving plugin: NDVIClimatology\n"
     ]
    },
    {
     "name": "stderr",
     "output_type": "stream",
     "text": [
      "Traceback (most recent call last):\n",
      "  File \"/env/bin/odc-stats\", line 8, in <module>\n",
      "    sys.exit(main())\n",
      "  File \"/env/lib/python3.8/site-packages/click/core.py\", line 1137, in __call__\n",
      "    return self.main(*args, **kwargs)\n",
      "  File \"/env/lib/python3.8/site-packages/click/core.py\", line 1062, in main\n",
      "    rv = self.invoke(ctx)\n",
      "  File \"/env/lib/python3.8/site-packages/click/core.py\", line 1668, in invoke\n",
      "    return _process_result(sub_ctx.command.invoke(sub_ctx))\n",
      "  File \"/env/lib/python3.8/site-packages/click/core.py\", line 1404, in invoke\n",
      "    return ctx.invoke(self.callback, **ctx.params)\n",
      "  File \"/env/lib/python3.8/site-packages/click/core.py\", line 763, in invoke\n",
      "    return __callback(*args, **kwargs)\n",
      "  File \"/env/lib/python3.8/site-packages/odc/stats/_cli_run.py\", line 161, in run\n",
      "    runner = TaskRunner(cfg, resolution=resolution, from_sqs=from_sqs)\n",
      "  File \"/env/lib/python3.8/site-packages/odc/stats/proc.py\", line 45, in __init__\n",
      "    mk_proc = resolve(cfg.plugin)\n",
      "  File \"/env/lib/python3.8/site-packages/odc/stats/plugins/_registry.py\", line 27, in resolve\n",
      "    raise ValueError(f\"Failed to resolved named plugin: '{name}'\")\n",
      "ValueError: Failed to resolved named plugin: 'NDVIClimatology'\n"
     ]
    },
    {
     "name": "stdout",
     "output_type": "stream",
     "text": [
      "CPU times: user 4.05 ms, sys: 3.44 ms, total: 7.49 ms\n",
      "Wall time: 1.83 s\n"
     ]
    },
    {
     "data": {
      "text/plain": [
       "256"
      ]
     },
     "execution_count": 7,
     "metadata": {},
     "output_type": "execute_result"
    }
   ],
   "source": [
    "%%time\n",
    "os.system(\"odc-stats run \"\\\n",
    "          \"ls7_sr-ls8_sr_2014--P2Y.db \"\\\n",
    "          \"--config=ndvi_climatology.yaml \"\\\n",
    "          \"--resolution=60 \"\\\n",
    "          \"--threads=4 \"\\\n",
    "          \"--memory-limit=29Gi \"\\\n",
    "          \"--location=file:///home/jovyan/git/deafrica-sandbox-notebooks/frica-sandbox-notebooks/HLS/{product}/{version} \"+str(1200)\n",
    "         )"
   ]
  },
  {
   "cell_type": "code",
   "execution_count": null,
   "id": "75517bf6-850f-41c2-bcc2-5b870c6ce558",
   "metadata": {},
   "outputs": [],
   "source": [
    "# !odc-stats run ls7_sr_2014--P2Y.db --config=ndvi_climatology.yaml --resolution=60 --threads=4 --memory-limit=29Gi --location=file:///home/jovyan/git/deafrica-sandbox-notebooks/frica-sandbox-notebooks/HLS/{product}/{version}"
   ]
  },
  {
   "cell_type": "code",
   "execution_count": null,
   "id": "80534f0c-89c1-4c6e-bca2-401c48735f06",
   "metadata": {},
   "outputs": [],
   "source": [
    "# taskdb = TaskReader('s3://deafrica-services/crop_mask_eastern/1-0-0/gm_s2_semiannual_all.db', product=op)\n",
    "# task = taskdb.load_task(('2019--P1Y', t[0], t[1]))"
   ]
  }
 ],
 "metadata": {
  "kernelspec": {
   "display_name": "Python 3 (ipykernel)",
   "language": "python",
   "name": "python3"
  },
  "language_info": {
   "codemirror_mode": {
    "name": "ipython",
    "version": 3
   },
   "file_extension": ".py",
   "mimetype": "text/x-python",
   "name": "python",
   "nbconvert_exporter": "python",
   "pygments_lexer": "ipython3",
   "version": "3.8.10"
  }
 },
 "nbformat": 4,
 "nbformat_minor": 5
}
