{
 "cells": [
  {
   "cell_type": "markdown",
   "metadata": {},
   "source": [
    "# Testing\n",
    "\n",
    "* **Products used:** \n"
   ]
  },
  {
   "cell_type": "markdown",
   "metadata": {},
   "source": [
    "### Background \n",
    "\n",
    "### Description\n"
   ]
  },
  {
   "cell_type": "markdown",
   "metadata": {},
   "source": [
    "## Getting started\n"
   ]
  },
  {
   "cell_type": "markdown",
   "metadata": {},
   "source": [
    "### Load packages\n",
    "Load key Python packages and any supporting functions for the analysis."
   ]
  },
  {
   "cell_type": "code",
   "execution_count": null,
   "metadata": {},
   "outputs": [],
   "source": [
    "import datacube\n",
    "import datacube.utils.rio\n",
    "import matplotlib.pyplot as plt\n",
    "import numpy as np\n",
    "import seaborn as sns\n",
    "from scipy import stats\n",
    "import pandas as pd\n",
    "import xarray as xr\n",
    "import geopandas as gpd\n",
    "from odc.io.cgroups import get_cpu_quota\n",
    "from sklearn.metrics import mean_absolute_error\n",
    "from datacube.utils.geometry import assign_crs\n",
    "from deafrica_tools.datahandling import load_ard\n",
    "from deafrica_tools.plotting import map_shapefile\n",
    "from deafrica_tools.bandindices import calculate_indices\n",
    "from deafrica_tools.classification import collect_training_data\n",
    "\n",
    "#This will speed up loading data\n",
    "datacube.utils.rio.set_default_rio_config(aws='auto', cloud_defaults=True)"
   ]
  },
  {
   "cell_type": "markdown",
   "metadata": {
    "tags": []
   },
   "source": [
    "### Analysis parameters\n"
   ]
  },
  {
   "cell_type": "code",
   "execution_count": null,
   "metadata": {},
   "outputs": [],
   "source": [
    "path = 'data/harmonization_training_sample.geojson' \n",
    "field = 'Class'\n",
    "time = ('2013', '2020')\n",
    "measurements =  ['red','nir'] \n",
    "resampling = {'red':'bilinear', 'nir':'bilinear', '*':'nearest'}\n",
    "resolution = (-30,30)\n",
    "output_crs='epsg:6933'"
   ]
  },
  {
   "cell_type": "code",
   "execution_count": null,
   "metadata": {},
   "outputs": [],
   "source": [
    "ncpus=round(get_cpu_quota())\n",
    "print('ncpus = '+str(ncpus))"
   ]
  },
  {
   "cell_type": "markdown",
   "metadata": {
    "tags": []
   },
   "source": [
    "## View the selected location\n",
    "The next cell will display the selected area on an interactive map.\n",
    "The red border represents the area of interest of the study.\n",
    "Zoom in and out to get a better understanding of the area of interest.\n",
    "Clicking anywhere on the map will reveal the latitude and longitude coordinates of the clicked point."
   ]
  },
  {
   "cell_type": "code",
   "execution_count": null,
   "metadata": {},
   "outputs": [],
   "source": [
    "# Load input data shapefile\n",
    "input_data = gpd.read_file(path)\n",
    "input_data.head()"
   ]
  },
  {
   "cell_type": "code",
   "execution_count": null,
   "metadata": {},
   "outputs": [],
   "source": [
    "print('crop = '+str(len(input_data[input_data.Class==1])))\n",
    "print('noncrop = '+str(len(input_data[input_data.Class==0])))"
   ]
  },
  {
   "cell_type": "code",
   "execution_count": null,
   "metadata": {},
   "outputs": [],
   "source": [
    "# input_data.explore(column=field, cmap='viridis')"
   ]
  },
  {
   "cell_type": "code",
   "execution_count": null,
   "metadata": {},
   "outputs": [],
   "source": [
    "query = {\n",
    "    'time':time,\n",
    "    'measurements': measurements,\n",
    "    'resolution': resolution,\n",
    "    'output_crs': output_crs,\n",
    "    'resampling':resampling\n",
    "}\n",
    "\n",
    "def feature_layers(query):\n",
    "    #connect to the datacube\n",
    "    dc = datacube.Datacube(app='feature_layers')\n",
    "    \n",
    "    #load landsat 8\n",
    "    ds_ls = load_ard(dc=dc,\n",
    "                  products=['ls8_sr'],\n",
    "#                   min_gooddata=0.99,\n",
    "                  verbose=False,\n",
    "                  **query,\n",
    "                 )\n",
    "    \n",
    "    ds_ls=calculate_indices(ds_ls, 'NDVI', collection='c2', drop=False)\n",
    "    \n",
    "    # load landsat 7\n",
    "    ds_ls7 = load_ard(dc=dc,\n",
    "                  products=['ls7_sr'],\n",
    "                  like=ds_ls.geobox,\n",
    "                  time=time,\n",
    "                  measurements=['red','nir'],\n",
    "#                   min_gooddata=0.99,\n",
    "                  verbose=False\n",
    "                 )\n",
    "\n",
    "    ds_ls7 = calculate_indices(ds_ls7, 'NDVI', collection='c2', drop=False)\n",
    "#     print('LS7 BEFORE reindex NDVI',ds_ls7.NDVI.values)\n",
    "#     print('LS8 times',ds_ls.time.values)\n",
    "#     print('LS7 times',ds_ls7.time.values)\n",
    "    \n",
    "    #match LS7 at LS8 times with 2-Day tolerance\n",
    "    ds_ls7 = ds_ls7.reindex(time=ds_ls.time, method='nearest', tolerance='2D')\n",
    "    \n",
    "#     print('LS7 after reindex NDVI',ds_ls7.NDVI)\n",
    "    \n",
    "    #remove outliers\n",
    "    ds_ls7 = ds_ls7.where(ds_ls7>0)\n",
    "    ds_ls = ds_ls.where(ds_ls>0)\n",
    "    ds_ls7 = ds_ls7.where(ds_ls7<1)\n",
    "    ds_ls = ds_ls.where(ds_ls<1)\n",
    "    \n",
    "    try:\n",
    "        t_max = ds_ls7.NDVI.idxmax(\"time\")\n",
    "        ds_ls7 = ds_ls7.sel(time=t_max)\n",
    "        ds_ls = ds_ls.sel(time=t_max)\n",
    "        \n",
    "        #rename bands to include sensor\n",
    "        for band in ds_ls.data_vars:\n",
    "            ds_ls = ds_ls.rename({band: band + '_ls8'})\n",
    "\n",
    "        #rename bands to include sensor\n",
    "        for band in ds_ls7.data_vars:\n",
    "            ds_ls7 = ds_ls7.rename({band: band + '_ls7'})\n",
    "        \n",
    "        result = xr.merge([ds_ls, ds_ls7],compat='override')\n",
    "        result = assign_crs(result, crs='epsg:6933')\n",
    "#         print('succeed', result)\n",
    "\n",
    "    except:\n",
    "        # If above fails (no pairs) return an array filled with NaNs\n",
    "        # that matches the output of the successful ones\n",
    "        ds_ls7 = ds_ls7.mean('time')\n",
    "        ds_ls = ds_ls.mean('time')\n",
    "        \n",
    "        #rename bands to include sensor\n",
    "        for band in ds_ls.data_vars:\n",
    "            ds_ls = ds_ls.rename({band: band + '_ls8'})\n",
    "\n",
    "        #rename bands to include sensor\n",
    "        for band in ds_ls7.data_vars:\n",
    "            ds_ls7 = ds_ls7.rename({band: band + '_ls7'})\n",
    "        \n",
    "        result = xr.merge([ds_ls, ds_ls7],compat='override')\n",
    "        result = result.where(result>1000) #make everything NaN\n",
    "        result = assign_crs(result, crs='epsg:6933')\n",
    "#         print('fail', result)\n",
    "    return result\n",
    "        "
   ]
  },
  {
   "cell_type": "code",
   "execution_count": null,
   "metadata": {},
   "outputs": [],
   "source": [
    "%%time\n",
    "column_names, model_input = collect_training_data(\n",
    "                                    gdf=input_data[7500:].reset_index(drop=True),\n",
    "                                    dc_query=query,\n",
    "                                    ncpus=25,\n",
    "                                    field=field,\n",
    "                                    feature_func=feature_layers,\n",
    "                                    )"
   ]
  },
  {
   "cell_type": "code",
   "execution_count": null,
   "metadata": {},
   "outputs": [],
   "source": [
    "df = pd.DataFrame(data=model_input, columns=column_names)\n",
    "df.head()"
   ]
  },
  {
   "cell_type": "code",
   "execution_count": null,
   "metadata": {},
   "outputs": [],
   "source": [
    "df.to_csv('results/ndvi_ls8_ls7_7500_10000.csv')"
   ]
  },
  {
   "cell_type": "code",
   "execution_count": null,
   "metadata": {},
   "outputs": [],
   "source": [
    "# 1330 start time"
   ]
  }
 ],
 "metadata": {
  "kernelspec": {
   "display_name": "Python 3 (ipykernel)",
   "language": "python",
   "name": "python3"
  },
  "language_info": {
   "codemirror_mode": {
    "name": "ipython",
    "version": 3
   },
   "file_extension": ".py",
   "mimetype": "text/x-python",
   "name": "python",
   "nbconvert_exporter": "python",
   "pygments_lexer": "ipython3",
   "version": "3.8.10"
  },
  "widgets": {
   "application/vnd.jupyter.widget-state+json": {
    "state": {},
    "version_major": 2,
    "version_minor": 0
   }
  }
 },
 "nbformat": 4,
 "nbformat_minor": 4
}
